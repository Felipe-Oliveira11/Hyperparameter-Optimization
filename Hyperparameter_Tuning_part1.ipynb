{
  "nbformat": 4,
  "nbformat_minor": 0,
  "metadata": {
    "colab": {
      "name": "Hyperparameter Tuning part1.ipynb",
      "provenance": [],
      "collapsed_sections": [],
      "mount_file_id": "1e2Fr-Uoiesu8zTKXmzx8YdHYutcgvShg",
      "authorship_tag": "ABX9TyPxmfByxjTHUmxx+0OhdvHE",
      "include_colab_link": true
    },
    "kernelspec": {
      "name": "python3",
      "display_name": "Python 3"
    },
    "accelerator": "GPU"
  },
  "cells": [
    {
      "cell_type": "markdown",
      "metadata": {
        "id": "view-in-github",
        "colab_type": "text"
      },
      "source": [
        "<a href=\"https://colab.research.google.com/github/Felipe-Oliveira11/Hyperparameter-Optimization-/blob/master/Hyperparameter_Tuning_part1.ipynb\" target=\"_parent\"><img src=\"https://colab.research.google.com/assets/colab-badge.svg\" alt=\"Open In Colab\"/></a>"
      ]
    },
    {
      "cell_type": "markdown",
      "metadata": {
        "id": "STzdA757bumZ",
        "colab_type": "text"
      },
      "source": [
        "## Hyperparameter Tuning \n",
        "<br>\n",
        "\n",
        "\n",
        "O tuning de hiperparâmetros é uma etapa importanssíma, na criação de modelos de Machine learning e o objetivo é encontrar a melhor combinação de valores, para que o modelo alcance o seu potencial máximo em determinado problema. \n",
        "\n",
        "\n",
        "<p align=center>\n",
        "<img src=\"https://chrisalbon.com/images/machine_learning_flashcards/Hyperparameter_Tuning_print.png\" width=\"60%\"></p>\n",
        "\n",
        "\n",
        "<hr>\n",
        "<br>\n",
        "\n",
        "\n"
      ]
    },
    {
      "cell_type": "code",
      "metadata": {
        "id": "Ue8_Xskma0OR",
        "colab_type": "code",
        "colab": {
          "base_uri": "https://localhost:8080/",
          "height": 71
        },
        "outputId": "8073f964-b531-4710-f64f-4c05774bcfe7"
      },
      "source": [
        "import pandas as pd \n",
        "import numpy as np \n",
        "import matplotlib.pyplot as plt \n",
        "import seaborn as sns \n",
        "import scipy.stats as stats\n",
        "\n",
        "%matplotlib inline \n",
        "import warnings\n",
        "warnings.filterwarnings('ignore')\n",
        "\n",
        "\n",
        "from sklearn.preprocessing import StandardScaler, LabelEncoder\n",
        "from sklearn.model_selection import train_test_split\n",
        "from sklearn.ensemble import RandomForestClassifier, ExtraTreesClassifier\n",
        "from sklearn.metrics import classification_report, accuracy_score, roc_auc_score\n",
        "from sklearn.model_selection import GridSearchCV"
      ],
      "execution_count": 1,
      "outputs": [
        {
          "output_type": "stream",
          "text": [
            "/usr/local/lib/python3.6/dist-packages/statsmodels/tools/_testing.py:19: FutureWarning: pandas.util.testing is deprecated. Use the functions in the public API at pandas.testing instead.\n",
            "  import pandas.util.testing as tm\n"
          ],
          "name": "stderr"
        }
      ]
    },
    {
      "cell_type": "code",
      "metadata": {
        "id": "ogWW0a0Bc0pe",
        "colab_type": "code",
        "colab": {
          "base_uri": "https://localhost:8080/",
          "height": 241
        },
        "outputId": "12bb616d-65da-45ac-a298-7ed12f54c050"
      },
      "source": [
        "# dados \n",
        "path = '/content/drive/My Drive/Inteligência Artificial - Colab/ML- Supervisionado /Random Forest /data.csv'\n",
        "data = pd.read_csv(path)\n",
        "data.head()"
      ],
      "execution_count": 2,
      "outputs": [
        {
          "output_type": "execute_result",
          "data": {
            "text/html": [
              "<div>\n",
              "<style scoped>\n",
              "    .dataframe tbody tr th:only-of-type {\n",
              "        vertical-align: middle;\n",
              "    }\n",
              "\n",
              "    .dataframe tbody tr th {\n",
              "        vertical-align: top;\n",
              "    }\n",
              "\n",
              "    .dataframe thead th {\n",
              "        text-align: right;\n",
              "    }\n",
              "</style>\n",
              "<table border=\"1\" class=\"dataframe\">\n",
              "  <thead>\n",
              "    <tr style=\"text-align: right;\">\n",
              "      <th></th>\n",
              "      <th>id</th>\n",
              "      <th>diagnosis</th>\n",
              "      <th>radius_mean</th>\n",
              "      <th>texture_mean</th>\n",
              "      <th>perimeter_mean</th>\n",
              "      <th>area_mean</th>\n",
              "      <th>smoothness_mean</th>\n",
              "      <th>compactness_mean</th>\n",
              "      <th>concavity_mean</th>\n",
              "      <th>concave points_mean</th>\n",
              "      <th>symmetry_mean</th>\n",
              "      <th>fractal_dimension_mean</th>\n",
              "      <th>radius_se</th>\n",
              "      <th>texture_se</th>\n",
              "      <th>perimeter_se</th>\n",
              "      <th>area_se</th>\n",
              "      <th>smoothness_se</th>\n",
              "      <th>compactness_se</th>\n",
              "      <th>concavity_se</th>\n",
              "      <th>concave points_se</th>\n",
              "      <th>symmetry_se</th>\n",
              "      <th>fractal_dimension_se</th>\n",
              "      <th>radius_worst</th>\n",
              "      <th>texture_worst</th>\n",
              "      <th>perimeter_worst</th>\n",
              "      <th>area_worst</th>\n",
              "      <th>smoothness_worst</th>\n",
              "      <th>compactness_worst</th>\n",
              "      <th>concavity_worst</th>\n",
              "      <th>concave points_worst</th>\n",
              "      <th>symmetry_worst</th>\n",
              "      <th>fractal_dimension_worst</th>\n",
              "      <th>Unnamed: 32</th>\n",
              "    </tr>\n",
              "  </thead>\n",
              "  <tbody>\n",
              "    <tr>\n",
              "      <th>0</th>\n",
              "      <td>842302</td>\n",
              "      <td>M</td>\n",
              "      <td>17.99</td>\n",
              "      <td>10.38</td>\n",
              "      <td>122.80</td>\n",
              "      <td>1001.0</td>\n",
              "      <td>0.11840</td>\n",
              "      <td>0.27760</td>\n",
              "      <td>0.3001</td>\n",
              "      <td>0.14710</td>\n",
              "      <td>0.2419</td>\n",
              "      <td>0.07871</td>\n",
              "      <td>1.0950</td>\n",
              "      <td>0.9053</td>\n",
              "      <td>8.589</td>\n",
              "      <td>153.40</td>\n",
              "      <td>0.006399</td>\n",
              "      <td>0.04904</td>\n",
              "      <td>0.05373</td>\n",
              "      <td>0.01587</td>\n",
              "      <td>0.03003</td>\n",
              "      <td>0.006193</td>\n",
              "      <td>25.38</td>\n",
              "      <td>17.33</td>\n",
              "      <td>184.60</td>\n",
              "      <td>2019.0</td>\n",
              "      <td>0.1622</td>\n",
              "      <td>0.6656</td>\n",
              "      <td>0.7119</td>\n",
              "      <td>0.2654</td>\n",
              "      <td>0.4601</td>\n",
              "      <td>0.11890</td>\n",
              "      <td>NaN</td>\n",
              "    </tr>\n",
              "    <tr>\n",
              "      <th>1</th>\n",
              "      <td>842517</td>\n",
              "      <td>M</td>\n",
              "      <td>20.57</td>\n",
              "      <td>17.77</td>\n",
              "      <td>132.90</td>\n",
              "      <td>1326.0</td>\n",
              "      <td>0.08474</td>\n",
              "      <td>0.07864</td>\n",
              "      <td>0.0869</td>\n",
              "      <td>0.07017</td>\n",
              "      <td>0.1812</td>\n",
              "      <td>0.05667</td>\n",
              "      <td>0.5435</td>\n",
              "      <td>0.7339</td>\n",
              "      <td>3.398</td>\n",
              "      <td>74.08</td>\n",
              "      <td>0.005225</td>\n",
              "      <td>0.01308</td>\n",
              "      <td>0.01860</td>\n",
              "      <td>0.01340</td>\n",
              "      <td>0.01389</td>\n",
              "      <td>0.003532</td>\n",
              "      <td>24.99</td>\n",
              "      <td>23.41</td>\n",
              "      <td>158.80</td>\n",
              "      <td>1956.0</td>\n",
              "      <td>0.1238</td>\n",
              "      <td>0.1866</td>\n",
              "      <td>0.2416</td>\n",
              "      <td>0.1860</td>\n",
              "      <td>0.2750</td>\n",
              "      <td>0.08902</td>\n",
              "      <td>NaN</td>\n",
              "    </tr>\n",
              "    <tr>\n",
              "      <th>2</th>\n",
              "      <td>84300903</td>\n",
              "      <td>M</td>\n",
              "      <td>19.69</td>\n",
              "      <td>21.25</td>\n",
              "      <td>130.00</td>\n",
              "      <td>1203.0</td>\n",
              "      <td>0.10960</td>\n",
              "      <td>0.15990</td>\n",
              "      <td>0.1974</td>\n",
              "      <td>0.12790</td>\n",
              "      <td>0.2069</td>\n",
              "      <td>0.05999</td>\n",
              "      <td>0.7456</td>\n",
              "      <td>0.7869</td>\n",
              "      <td>4.585</td>\n",
              "      <td>94.03</td>\n",
              "      <td>0.006150</td>\n",
              "      <td>0.04006</td>\n",
              "      <td>0.03832</td>\n",
              "      <td>0.02058</td>\n",
              "      <td>0.02250</td>\n",
              "      <td>0.004571</td>\n",
              "      <td>23.57</td>\n",
              "      <td>25.53</td>\n",
              "      <td>152.50</td>\n",
              "      <td>1709.0</td>\n",
              "      <td>0.1444</td>\n",
              "      <td>0.4245</td>\n",
              "      <td>0.4504</td>\n",
              "      <td>0.2430</td>\n",
              "      <td>0.3613</td>\n",
              "      <td>0.08758</td>\n",
              "      <td>NaN</td>\n",
              "    </tr>\n",
              "    <tr>\n",
              "      <th>3</th>\n",
              "      <td>84348301</td>\n",
              "      <td>M</td>\n",
              "      <td>11.42</td>\n",
              "      <td>20.38</td>\n",
              "      <td>77.58</td>\n",
              "      <td>386.1</td>\n",
              "      <td>0.14250</td>\n",
              "      <td>0.28390</td>\n",
              "      <td>0.2414</td>\n",
              "      <td>0.10520</td>\n",
              "      <td>0.2597</td>\n",
              "      <td>0.09744</td>\n",
              "      <td>0.4956</td>\n",
              "      <td>1.1560</td>\n",
              "      <td>3.445</td>\n",
              "      <td>27.23</td>\n",
              "      <td>0.009110</td>\n",
              "      <td>0.07458</td>\n",
              "      <td>0.05661</td>\n",
              "      <td>0.01867</td>\n",
              "      <td>0.05963</td>\n",
              "      <td>0.009208</td>\n",
              "      <td>14.91</td>\n",
              "      <td>26.50</td>\n",
              "      <td>98.87</td>\n",
              "      <td>567.7</td>\n",
              "      <td>0.2098</td>\n",
              "      <td>0.8663</td>\n",
              "      <td>0.6869</td>\n",
              "      <td>0.2575</td>\n",
              "      <td>0.6638</td>\n",
              "      <td>0.17300</td>\n",
              "      <td>NaN</td>\n",
              "    </tr>\n",
              "    <tr>\n",
              "      <th>4</th>\n",
              "      <td>84358402</td>\n",
              "      <td>M</td>\n",
              "      <td>20.29</td>\n",
              "      <td>14.34</td>\n",
              "      <td>135.10</td>\n",
              "      <td>1297.0</td>\n",
              "      <td>0.10030</td>\n",
              "      <td>0.13280</td>\n",
              "      <td>0.1980</td>\n",
              "      <td>0.10430</td>\n",
              "      <td>0.1809</td>\n",
              "      <td>0.05883</td>\n",
              "      <td>0.7572</td>\n",
              "      <td>0.7813</td>\n",
              "      <td>5.438</td>\n",
              "      <td>94.44</td>\n",
              "      <td>0.011490</td>\n",
              "      <td>0.02461</td>\n",
              "      <td>0.05688</td>\n",
              "      <td>0.01885</td>\n",
              "      <td>0.01756</td>\n",
              "      <td>0.005115</td>\n",
              "      <td>22.54</td>\n",
              "      <td>16.67</td>\n",
              "      <td>152.20</td>\n",
              "      <td>1575.0</td>\n",
              "      <td>0.1374</td>\n",
              "      <td>0.2050</td>\n",
              "      <td>0.4000</td>\n",
              "      <td>0.1625</td>\n",
              "      <td>0.2364</td>\n",
              "      <td>0.07678</td>\n",
              "      <td>NaN</td>\n",
              "    </tr>\n",
              "  </tbody>\n",
              "</table>\n",
              "</div>"
            ],
            "text/plain": [
              "         id diagnosis  ...  fractal_dimension_worst  Unnamed: 32\n",
              "0    842302         M  ...                  0.11890          NaN\n",
              "1    842517         M  ...                  0.08902          NaN\n",
              "2  84300903         M  ...                  0.08758          NaN\n",
              "3  84348301         M  ...                  0.17300          NaN\n",
              "4  84358402         M  ...                  0.07678          NaN\n",
              "\n",
              "[5 rows x 33 columns]"
            ]
          },
          "metadata": {
            "tags": []
          },
          "execution_count": 2
        }
      ]
    },
    {
      "cell_type": "code",
      "metadata": {
        "id": "vtooV5NMc4-r",
        "colab_type": "code",
        "colab": {}
      },
      "source": [
        "# Modelagem \n",
        "data.drop('id', axis=1, inplace=True)\n",
        "data.drop('Unnamed: 32', axis=1, inplace=True)\n",
        "\n",
        "X = data.drop('diagnosis', axis=1)\n",
        "y = data['diagnosis']"
      ],
      "execution_count": 3,
      "outputs": []
    },
    {
      "cell_type": "code",
      "metadata": {
        "id": "OyJs7GQbdtwi",
        "colab_type": "code",
        "colab": {
          "base_uri": "https://localhost:8080/",
          "height": 170
        },
        "outputId": "5bc86a73-8b00-4927-f57e-6e0574466c49"
      },
      "source": [
        "X_train, X_test, y_train, y_test = train_test_split(X,y, test_size=0.30, random_state=42)\n",
        "\n",
        "\n",
        "# encoding \n",
        "label = LabelEncoder()\n",
        "y_train = label.fit_transform(y_train)\n",
        "y_test = label.transform(y_test)\n",
        "\n",
        "\n",
        "# Standard \n",
        "scaler = StandardScaler()\n",
        "X_train = scaler.fit_transform(X_train)\n",
        "X_test = scaler.transform(X_test)\n",
        "\n",
        "\n",
        "\n",
        "mdl = RandomForestClassifier(n_estimators=100, random_state=42)\n",
        "mdl.fit(X_train, y_train)\n",
        "y_pred = mdl.predict(X_test)\n",
        "\n",
        "print(classification_report(y_test, y_pred))"
      ],
      "execution_count": 4,
      "outputs": [
        {
          "output_type": "stream",
          "text": [
            "              precision    recall  f1-score   support\n",
            "\n",
            "           0       0.96      0.99      0.98       108\n",
            "           1       0.98      0.94      0.96        63\n",
            "\n",
            "    accuracy                           0.97       171\n",
            "   macro avg       0.97      0.96      0.97       171\n",
            "weighted avg       0.97      0.97      0.97       171\n",
            "\n"
          ],
          "name": "stdout"
        }
      ]
    },
    {
      "cell_type": "markdown",
      "metadata": {
        "id": "I14YfKXKfTB5",
        "colab_type": "text"
      },
      "source": [
        "### GridSearchCV\n",
        "\n",
        "<hr>"
      ]
    },
    {
      "cell_type": "code",
      "metadata": {
        "id": "QytcfKO6fVir",
        "colab_type": "code",
        "colab": {}
      },
      "source": [
        "from sklearn.model_selection import GridSearchCV"
      ],
      "execution_count": 5,
      "outputs": []
    },
    {
      "cell_type": "code",
      "metadata": {
        "id": "NeNLYPWkfZu7",
        "colab_type": "code",
        "colab": {}
      },
      "source": [
        "# modelo \n",
        "mdl = RandomForestClassifier()\n",
        "\n",
        "\n",
        "# parâmetros estimados \n",
        "params = {'n_estimators':[100,300,400,800,1000],\n",
        "          'max_depth':[5,8,12,15,16],\n",
        "          'min_samples_leaf':[2,4,6,10,12],\n",
        "          'max_features':[3,5,8,12,14]\n",
        "         }"
      ],
      "execution_count": 6,
      "outputs": []
    },
    {
      "cell_type": "code",
      "metadata": {
        "id": "RDoW-aUph2V2",
        "colab_type": "code",
        "colab": {
          "base_uri": "https://localhost:8080/",
          "height": 408
        },
        "outputId": "6652cc50-7553-4874-8da1-12ab155811b5"
      },
      "source": [
        "# Grid Search \n",
        "\n",
        "grid = GridSearchCV(mdl, param_grid=params, scoring='accuracy', cv=5)\n",
        "grid.fit(X_train, y_train)"
      ],
      "execution_count": 7,
      "outputs": [
        {
          "output_type": "execute_result",
          "data": {
            "text/plain": [
              "GridSearchCV(cv=5, error_score=nan,\n",
              "             estimator=RandomForestClassifier(bootstrap=True, ccp_alpha=0.0,\n",
              "                                              class_weight=None,\n",
              "                                              criterion='gini', max_depth=None,\n",
              "                                              max_features='auto',\n",
              "                                              max_leaf_nodes=None,\n",
              "                                              max_samples=None,\n",
              "                                              min_impurity_decrease=0.0,\n",
              "                                              min_impurity_split=None,\n",
              "                                              min_samples_leaf=1,\n",
              "                                              min_samples_split=2,\n",
              "                                              min_weight_fraction_leaf=0.0,\n",
              "                                              n_estimators=100, n_jobs=None,\n",
              "                                              oob_score=False,\n",
              "                                              random_state=None, verbose=0,\n",
              "                                              warm_start=False),\n",
              "             iid='deprecated', n_jobs=None,\n",
              "             param_grid={'max_depth': [5, 8, 12, 15, 16],\n",
              "                         'max_features': [3, 5, 8, 12, 14],\n",
              "                         'min_samples_leaf': [2, 4, 6, 10, 12],\n",
              "                         'n_estimators': [100, 300, 400, 800, 1000]},\n",
              "             pre_dispatch='2*n_jobs', refit=True, return_train_score=False,\n",
              "             scoring='accuracy', verbose=0)"
            ]
          },
          "metadata": {
            "tags": []
          },
          "execution_count": 7
        }
      ]
    },
    {
      "cell_type": "code",
      "metadata": {
        "id": "4GiHmthCiN0c",
        "colab_type": "code",
        "colab": {
          "base_uri": "https://localhost:8080/",
          "height": 564
        },
        "outputId": "d60e8066-ac2a-4de6-a481-fdc8f43703dd"
      },
      "source": [
        "# Cross Validation resultados \n",
        "pd.DataFrame(grid.cv_results_).head()"
      ],
      "execution_count": 8,
      "outputs": [
        {
          "output_type": "execute_result",
          "data": {
            "text/html": [
              "<div>\n",
              "<style scoped>\n",
              "    .dataframe tbody tr th:only-of-type {\n",
              "        vertical-align: middle;\n",
              "    }\n",
              "\n",
              "    .dataframe tbody tr th {\n",
              "        vertical-align: top;\n",
              "    }\n",
              "\n",
              "    .dataframe thead th {\n",
              "        text-align: right;\n",
              "    }\n",
              "</style>\n",
              "<table border=\"1\" class=\"dataframe\">\n",
              "  <thead>\n",
              "    <tr style=\"text-align: right;\">\n",
              "      <th></th>\n",
              "      <th>mean_fit_time</th>\n",
              "      <th>std_fit_time</th>\n",
              "      <th>mean_score_time</th>\n",
              "      <th>std_score_time</th>\n",
              "      <th>param_max_depth</th>\n",
              "      <th>param_max_features</th>\n",
              "      <th>param_min_samples_leaf</th>\n",
              "      <th>param_n_estimators</th>\n",
              "      <th>params</th>\n",
              "      <th>split0_test_score</th>\n",
              "      <th>split1_test_score</th>\n",
              "      <th>split2_test_score</th>\n",
              "      <th>split3_test_score</th>\n",
              "      <th>split4_test_score</th>\n",
              "      <th>mean_test_score</th>\n",
              "      <th>std_test_score</th>\n",
              "      <th>rank_test_score</th>\n",
              "    </tr>\n",
              "  </thead>\n",
              "  <tbody>\n",
              "    <tr>\n",
              "      <th>0</th>\n",
              "      <td>0.132396</td>\n",
              "      <td>0.004404</td>\n",
              "      <td>0.006898</td>\n",
              "      <td>0.000145</td>\n",
              "      <td>5</td>\n",
              "      <td>3</td>\n",
              "      <td>2</td>\n",
              "      <td>100</td>\n",
              "      <td>{'max_depth': 5, 'max_features': 3, 'min_sampl...</td>\n",
              "      <td>0.9500</td>\n",
              "      <td>0.95</td>\n",
              "      <td>0.9625</td>\n",
              "      <td>0.949367</td>\n",
              "      <td>0.924051</td>\n",
              "      <td>0.947184</td>\n",
              "      <td>0.012573</td>\n",
              "      <td>190</td>\n",
              "    </tr>\n",
              "    <tr>\n",
              "      <th>1</th>\n",
              "      <td>0.409605</td>\n",
              "      <td>0.011071</td>\n",
              "      <td>0.021067</td>\n",
              "      <td>0.002363</td>\n",
              "      <td>5</td>\n",
              "      <td>3</td>\n",
              "      <td>2</td>\n",
              "      <td>300</td>\n",
              "      <td>{'max_depth': 5, 'max_features': 3, 'min_sampl...</td>\n",
              "      <td>0.9250</td>\n",
              "      <td>0.95</td>\n",
              "      <td>0.9750</td>\n",
              "      <td>0.936709</td>\n",
              "      <td>0.936709</td>\n",
              "      <td>0.944684</td>\n",
              "      <td>0.017100</td>\n",
              "      <td>269</td>\n",
              "    </tr>\n",
              "    <tr>\n",
              "      <th>2</th>\n",
              "      <td>0.533534</td>\n",
              "      <td>0.014282</td>\n",
              "      <td>0.028011</td>\n",
              "      <td>0.002653</td>\n",
              "      <td>5</td>\n",
              "      <td>3</td>\n",
              "      <td>2</td>\n",
              "      <td>400</td>\n",
              "      <td>{'max_depth': 5, 'max_features': 3, 'min_sampl...</td>\n",
              "      <td>0.9375</td>\n",
              "      <td>0.95</td>\n",
              "      <td>0.9625</td>\n",
              "      <td>0.936709</td>\n",
              "      <td>0.949367</td>\n",
              "      <td>0.947215</td>\n",
              "      <td>0.009495</td>\n",
              "      <td>152</td>\n",
              "    </tr>\n",
              "    <tr>\n",
              "      <th>3</th>\n",
              "      <td>1.056188</td>\n",
              "      <td>0.003252</td>\n",
              "      <td>0.055708</td>\n",
              "      <td>0.002279</td>\n",
              "      <td>5</td>\n",
              "      <td>3</td>\n",
              "      <td>2</td>\n",
              "      <td>800</td>\n",
              "      <td>{'max_depth': 5, 'max_features': 3, 'min_sampl...</td>\n",
              "      <td>0.9500</td>\n",
              "      <td>0.95</td>\n",
              "      <td>0.9625</td>\n",
              "      <td>0.936709</td>\n",
              "      <td>0.949367</td>\n",
              "      <td>0.949715</td>\n",
              "      <td>0.008160</td>\n",
              "      <td>98</td>\n",
              "    </tr>\n",
              "    <tr>\n",
              "      <th>4</th>\n",
              "      <td>1.352621</td>\n",
              "      <td>0.016015</td>\n",
              "      <td>0.066756</td>\n",
              "      <td>0.001419</td>\n",
              "      <td>5</td>\n",
              "      <td>3</td>\n",
              "      <td>2</td>\n",
              "      <td>1000</td>\n",
              "      <td>{'max_depth': 5, 'max_features': 3, 'min_sampl...</td>\n",
              "      <td>0.9500</td>\n",
              "      <td>0.95</td>\n",
              "      <td>0.9625</td>\n",
              "      <td>0.936709</td>\n",
              "      <td>0.936709</td>\n",
              "      <td>0.947184</td>\n",
              "      <td>0.009694</td>\n",
              "      <td>190</td>\n",
              "    </tr>\n",
              "  </tbody>\n",
              "</table>\n",
              "</div>"
            ],
            "text/plain": [
              "   mean_fit_time  std_fit_time  ...  std_test_score  rank_test_score\n",
              "0       0.132396      0.004404  ...        0.012573              190\n",
              "1       0.409605      0.011071  ...        0.017100              269\n",
              "2       0.533534      0.014282  ...        0.009495              152\n",
              "3       1.056188      0.003252  ...        0.008160               98\n",
              "4       1.352621      0.016015  ...        0.009694              190\n",
              "\n",
              "[5 rows x 17 columns]"
            ]
          },
          "metadata": {
            "tags": []
          },
          "execution_count": 8
        }
      ]
    },
    {
      "cell_type": "code",
      "metadata": {
        "id": "mDlk0GNrjBIs",
        "colab_type": "code",
        "colab": {
          "base_uri": "https://localhost:8080/",
          "height": 34
        },
        "outputId": "ef0862ef-57a7-429a-e4d4-7528af453ec0"
      },
      "source": [
        "# Pontuação média no CV \n",
        "grid.best_score_"
      ],
      "execution_count": 9,
      "outputs": [
        {
          "output_type": "execute_result",
          "data": {
            "text/plain": [
              "0.959746835443038"
            ]
          },
          "metadata": {
            "tags": []
          },
          "execution_count": 9
        }
      ]
    },
    {
      "cell_type": "code",
      "metadata": {
        "id": "tc-dlBxmiVI8",
        "colab_type": "code",
        "colab": {
          "base_uri": "https://localhost:8080/",
          "height": 153
        },
        "outputId": "2c3ccf60-82e9-4298-c6ec-b663d9db6833"
      },
      "source": [
        "# Melhor modelo GridSearch \n",
        "grid.best_estimator_"
      ],
      "execution_count": 10,
      "outputs": [
        {
          "output_type": "execute_result",
          "data": {
            "text/plain": [
              "RandomForestClassifier(bootstrap=True, ccp_alpha=0.0, class_weight=None,\n",
              "                       criterion='gini', max_depth=16, max_features=12,\n",
              "                       max_leaf_nodes=None, max_samples=None,\n",
              "                       min_impurity_decrease=0.0, min_impurity_split=None,\n",
              "                       min_samples_leaf=2, min_samples_split=2,\n",
              "                       min_weight_fraction_leaf=0.0, n_estimators=100,\n",
              "                       n_jobs=None, oob_score=False, random_state=None,\n",
              "                       verbose=0, warm_start=False)"
            ]
          },
          "metadata": {
            "tags": []
          },
          "execution_count": 10
        }
      ]
    },
    {
      "cell_type": "code",
      "metadata": {
        "id": "eDvHdHM0jGQ8",
        "colab_type": "code",
        "colab": {
          "base_uri": "https://localhost:8080/",
          "height": 85
        },
        "outputId": "99faa8cf-c35d-46b8-83fa-e6a31ecf641c"
      },
      "source": [
        "# melhores parâmetros \n",
        "grid.best_params_"
      ],
      "execution_count": 11,
      "outputs": [
        {
          "output_type": "execute_result",
          "data": {
            "text/plain": [
              "{'max_depth': 16,\n",
              " 'max_features': 12,\n",
              " 'min_samples_leaf': 2,\n",
              " 'n_estimators': 100}"
            ]
          },
          "metadata": {
            "tags": []
          },
          "execution_count": 11
        }
      ]
    },
    {
      "cell_type": "code",
      "metadata": {
        "id": "kwcYvEpQ9eUi",
        "colab_type": "code",
        "colab": {
          "base_uri": "https://localhost:8080/",
          "height": 34
        },
        "outputId": "a920f42b-528a-499a-c6ba-0453b6364a66"
      },
      "source": [
        "# número de CV Folds\n",
        "grid.n_splits_"
      ],
      "execution_count": 12,
      "outputs": [
        {
          "output_type": "execute_result",
          "data": {
            "text/plain": [
              "5"
            ]
          },
          "metadata": {
            "tags": []
          },
          "execution_count": 12
        }
      ]
    },
    {
      "cell_type": "code",
      "metadata": {
        "id": "NCZMHLMejNys",
        "colab_type": "code",
        "colab": {
          "base_uri": "https://localhost:8080/",
          "height": 170
        },
        "outputId": "533baaf1-c81e-4d15-e9ba-6bc90eabbeae"
      },
      "source": [
        "# Avaliando pós tuning \n",
        "y_pred = grid.predict(X_test)\n",
        "print(classification_report(y_test, y_pred))"
      ],
      "execution_count": 13,
      "outputs": [
        {
          "output_type": "stream",
          "text": [
            "              precision    recall  f1-score   support\n",
            "\n",
            "           0       0.96      0.97      0.97       108\n",
            "           1       0.95      0.94      0.94        63\n",
            "\n",
            "    accuracy                           0.96       171\n",
            "   macro avg       0.96      0.95      0.96       171\n",
            "weighted avg       0.96      0.96      0.96       171\n",
            "\n"
          ],
          "name": "stdout"
        }
      ]
    },
    {
      "cell_type": "markdown",
      "metadata": {
        "id": "3YezIyAzkBdG",
        "colab_type": "text"
      },
      "source": [
        "<hr>\n",
        "<br>\n",
        "\n",
        "<br>"
      ]
    },
    {
      "cell_type": "markdown",
      "metadata": {
        "id": "dNGOPrHRkFUz",
        "colab_type": "text"
      },
      "source": [
        "### Randomized Search \n",
        "\n",
        "Outra técnica de tuning com busca aleatória. Usando a busca por distribuição dos parâmetros."
      ]
    },
    {
      "cell_type": "code",
      "metadata": {
        "id": "EDWSbdiQkE5b",
        "colab_type": "code",
        "colab": {}
      },
      "source": [
        "from sklearn.model_selection import RandomizedSearchCV"
      ],
      "execution_count": 14,
      "outputs": []
    },
    {
      "cell_type": "code",
      "metadata": {
        "id": "3obhdFy5kRKd",
        "colab_type": "code",
        "colab": {}
      },
      "source": [
        "# modelo \n",
        "\n",
        "mdl = RandomForestClassifier(random_state=42)"
      ],
      "execution_count": 15,
      "outputs": []
    },
    {
      "cell_type": "code",
      "metadata": {
        "id": "PA5t6hlAneIc",
        "colab_type": "code",
        "colab": {}
      },
      "source": [
        "# parâmetros \n",
        "\n",
        "search_params = {\n",
        "          'n_estimators': stats.randint(100,2000),\n",
        "          'criterion': ['gini', 'entropy'], \n",
        "          'max_depth': stats.randint(1,20),\n",
        "          'min_samples_leaf': stats.randint(1, 18),\n",
        "          'max_features': stats.randint(1,30),\n",
        "          'min_impurity_decrease': stats.uniform(0.01, 0.20)\n",
        "          }"
      ],
      "execution_count": 16,
      "outputs": []
    },
    {
      "cell_type": "code",
      "metadata": {
        "id": "INUsdppbn3wM",
        "colab_type": "code",
        "colab": {}
      },
      "source": [
        "# Random Search tuning \n",
        "searchGrid = RandomizedSearchCV(mdl, param_distributions=search_params, cv=5, scoring='accuracy', random_state=42)"
      ],
      "execution_count": 17,
      "outputs": []
    },
    {
      "cell_type": "code",
      "metadata": {
        "id": "UgBOBvYl7_r2",
        "colab_type": "code",
        "colab": {
          "base_uri": "https://localhost:8080/",
          "height": 374
        },
        "outputId": "bbae0f55-c363-46ba-becb-2aeea50dc43d"
      },
      "source": [
        "# treinamento \n",
        "searchGrid.fit(X_train, y_train)"
      ],
      "execution_count": 18,
      "outputs": [
        {
          "output_type": "execute_result",
          "data": {
            "text/plain": [
              "RandomizedSearchCV(cv=5, error_score=nan,\n",
              "                   estimator=RandomForestClassifier(bootstrap=True,\n",
              "                                                    ccp_alpha=0.0,\n",
              "                                                    class_weight=None,\n",
              "                                                    criterion='gini',\n",
              "                                                    max_depth=None,\n",
              "                                                    max_features='auto',\n",
              "                                                    max_leaf_nodes=None,\n",
              "                                                    max_samples=None,\n",
              "                                                    min_impurity_decrease=0.0,\n",
              "                                                    min_impurity_split=None,\n",
              "                                                    min_samples_leaf=1,\n",
              "                                                    min_samples_split=2,\n",
              "                                                    min_weight_fraction_leaf=0.0,\n",
              "                                                    n_estimators=100,\n",
              "                                                    n_jobs...\n",
              "                                        'min_impurity_decrease': <scipy.stats._distn_infrastructure.rv_frozen object at 0x7f0717a9d4a8>,\n",
              "                                        'min_samples_leaf': <scipy.stats._distn_infrastructure.rv_frozen object at 0x7f0707d3a9e8>,\n",
              "                                        'n_estimators': <scipy.stats._distn_infrastructure.rv_frozen object at 0x7f0707da5128>},\n",
              "                   pre_dispatch='2*n_jobs', random_state=42, refit=True,\n",
              "                   return_train_score=False, scoring='accuracy', verbose=0)"
            ]
          },
          "metadata": {
            "tags": []
          },
          "execution_count": 18
        }
      ]
    },
    {
      "cell_type": "code",
      "metadata": {
        "id": "nyFvYW029aH7",
        "colab_type": "code",
        "colab": {
          "base_uri": "https://localhost:8080/",
          "height": 513
        },
        "outputId": "d6cb5110-4543-41f4-be5a-33cb2d5916c6"
      },
      "source": [
        "# Validação cruzada resultados \n",
        "pd.DataFrame(searchGrid.cv_results_).head()"
      ],
      "execution_count": 19,
      "outputs": [
        {
          "output_type": "execute_result",
          "data": {
            "text/html": [
              "<div>\n",
              "<style scoped>\n",
              "    .dataframe tbody tr th:only-of-type {\n",
              "        vertical-align: middle;\n",
              "    }\n",
              "\n",
              "    .dataframe tbody tr th {\n",
              "        vertical-align: top;\n",
              "    }\n",
              "\n",
              "    .dataframe thead th {\n",
              "        text-align: right;\n",
              "    }\n",
              "</style>\n",
              "<table border=\"1\" class=\"dataframe\">\n",
              "  <thead>\n",
              "    <tr style=\"text-align: right;\">\n",
              "      <th></th>\n",
              "      <th>mean_fit_time</th>\n",
              "      <th>std_fit_time</th>\n",
              "      <th>mean_score_time</th>\n",
              "      <th>std_score_time</th>\n",
              "      <th>param_criterion</th>\n",
              "      <th>param_max_depth</th>\n",
              "      <th>param_max_features</th>\n",
              "      <th>param_min_impurity_decrease</th>\n",
              "      <th>param_min_samples_leaf</th>\n",
              "      <th>param_n_estimators</th>\n",
              "      <th>params</th>\n",
              "      <th>split0_test_score</th>\n",
              "      <th>split1_test_score</th>\n",
              "      <th>split2_test_score</th>\n",
              "      <th>split3_test_score</th>\n",
              "      <th>split4_test_score</th>\n",
              "      <th>mean_test_score</th>\n",
              "      <th>std_test_score</th>\n",
              "      <th>rank_test_score</th>\n",
              "    </tr>\n",
              "  </thead>\n",
              "  <tbody>\n",
              "    <tr>\n",
              "      <th>0</th>\n",
              "      <td>0.335971</td>\n",
              "      <td>0.006065</td>\n",
              "      <td>0.014502</td>\n",
              "      <td>0.000440</td>\n",
              "      <td>gini</td>\n",
              "      <td>15</td>\n",
              "      <td>11</td>\n",
              "      <td>0.165938</td>\n",
              "      <td>7</td>\n",
              "      <td>221</td>\n",
              "      <td>{'criterion': 'gini', 'max_depth': 15, 'max_fe...</td>\n",
              "      <td>0.9500</td>\n",
              "      <td>0.9375</td>\n",
              "      <td>0.9250</td>\n",
              "      <td>0.873418</td>\n",
              "      <td>0.898734</td>\n",
              "      <td>0.916930</td>\n",
              "      <td>0.027591</td>\n",
              "      <td>10</td>\n",
              "    </tr>\n",
              "    <tr>\n",
              "      <th>1</th>\n",
              "      <td>1.473568</td>\n",
              "      <td>0.012718</td>\n",
              "      <td>0.067365</td>\n",
              "      <td>0.003526</td>\n",
              "      <td>gini</td>\n",
              "      <td>11</td>\n",
              "      <td>11</td>\n",
              "      <td>0.183235</td>\n",
              "      <td>4</td>\n",
              "      <td>971</td>\n",
              "      <td>{'criterion': 'gini', 'max_depth': 11, 'max_fe...</td>\n",
              "      <td>0.9375</td>\n",
              "      <td>0.9375</td>\n",
              "      <td>0.9250</td>\n",
              "      <td>0.886076</td>\n",
              "      <td>0.898734</td>\n",
              "      <td>0.916962</td>\n",
              "      <td>0.020950</td>\n",
              "      <td>9</td>\n",
              "    </tr>\n",
              "    <tr>\n",
              "      <th>2</th>\n",
              "      <td>4.331448</td>\n",
              "      <td>0.069904</td>\n",
              "      <td>0.116502</td>\n",
              "      <td>0.022951</td>\n",
              "      <td>entropy</td>\n",
              "      <td>3</td>\n",
              "      <td>22</td>\n",
              "      <td>0.0212823</td>\n",
              "      <td>12</td>\n",
              "      <td>1537</td>\n",
              "      <td>{'criterion': 'entropy', 'max_depth': 3, 'max_...</td>\n",
              "      <td>0.9500</td>\n",
              "      <td>0.9125</td>\n",
              "      <td>0.9375</td>\n",
              "      <td>0.924051</td>\n",
              "      <td>0.949367</td>\n",
              "      <td>0.934684</td>\n",
              "      <td>0.014583</td>\n",
              "      <td>2</td>\n",
              "    </tr>\n",
              "    <tr>\n",
              "      <th>3</th>\n",
              "      <td>4.204748</td>\n",
              "      <td>0.055225</td>\n",
              "      <td>0.095395</td>\n",
              "      <td>0.003397</td>\n",
              "      <td>entropy</td>\n",
              "      <td>2</td>\n",
              "      <td>28</td>\n",
              "      <td>0.0466809</td>\n",
              "      <td>12</td>\n",
              "      <td>1437</td>\n",
              "      <td>{'criterion': 'entropy', 'max_depth': 2, 'max_...</td>\n",
              "      <td>0.9375</td>\n",
              "      <td>0.9000</td>\n",
              "      <td>0.9250</td>\n",
              "      <td>0.924051</td>\n",
              "      <td>0.949367</td>\n",
              "      <td>0.927184</td>\n",
              "      <td>0.016444</td>\n",
              "      <td>7</td>\n",
              "    </tr>\n",
              "    <tr>\n",
              "      <th>4</th>\n",
              "      <td>4.888185</td>\n",
              "      <td>0.090344</td>\n",
              "      <td>0.104550</td>\n",
              "      <td>0.000831</td>\n",
              "      <td>entropy</td>\n",
              "      <td>12</td>\n",
              "      <td>25</td>\n",
              "      <td>0.0682458</td>\n",
              "      <td>10</td>\n",
              "      <td>1599</td>\n",
              "      <td>{'criterion': 'entropy', 'max_depth': 12, 'max...</td>\n",
              "      <td>0.9375</td>\n",
              "      <td>0.9000</td>\n",
              "      <td>0.9250</td>\n",
              "      <td>0.924051</td>\n",
              "      <td>0.949367</td>\n",
              "      <td>0.927184</td>\n",
              "      <td>0.016444</td>\n",
              "      <td>7</td>\n",
              "    </tr>\n",
              "  </tbody>\n",
              "</table>\n",
              "</div>"
            ],
            "text/plain": [
              "   mean_fit_time  std_fit_time  ...  std_test_score  rank_test_score\n",
              "0       0.335971      0.006065  ...        0.027591               10\n",
              "1       1.473568      0.012718  ...        0.020950                9\n",
              "2       4.331448      0.069904  ...        0.014583                2\n",
              "3       4.204748      0.055225  ...        0.016444                7\n",
              "4       4.888185      0.090344  ...        0.016444                7\n",
              "\n",
              "[5 rows x 19 columns]"
            ]
          },
          "metadata": {
            "tags": []
          },
          "execution_count": 19
        }
      ]
    },
    {
      "cell_type": "code",
      "metadata": {
        "id": "Sjrpr2Hb-gOs",
        "colab_type": "code",
        "colab": {
          "base_uri": "https://localhost:8080/",
          "height": 153
        },
        "outputId": "8e8c4076-aff3-483b-c2fe-3bc59769ae2d"
      },
      "source": [
        "# melhor modelo \n",
        "searchGrid.best_estimator_ "
      ],
      "execution_count": 20,
      "outputs": [
        {
          "output_type": "execute_result",
          "data": {
            "text/plain": [
              "RandomForestClassifier(bootstrap=True, ccp_alpha=0.0, class_weight=None,\n",
              "                       criterion='entropy', max_depth=15, max_features=28,\n",
              "                       max_leaf_nodes=None, max_samples=None,\n",
              "                       min_impurity_decrease=0.03440764696895577,\n",
              "                       min_impurity_split=None, min_samples_leaf=8,\n",
              "                       min_samples_split=2, min_weight_fraction_leaf=0.0,\n",
              "                       n_estimators=134, n_jobs=None, oob_score=False,\n",
              "                       random_state=42, verbose=0, warm_start=False)"
            ]
          },
          "metadata": {
            "tags": []
          },
          "execution_count": 20
        }
      ]
    },
    {
      "cell_type": "code",
      "metadata": {
        "id": "mAsnRbSU-qJu",
        "colab_type": "code",
        "colab": {
          "base_uri": "https://localhost:8080/",
          "height": 119
        },
        "outputId": "c38619d0-b388-4a03-ba9e-44b3fd957391"
      },
      "source": [
        "# melhores parâmetros \n",
        "searchGrid.best_params_"
      ],
      "execution_count": 21,
      "outputs": [
        {
          "output_type": "execute_result",
          "data": {
            "text/plain": [
              "{'criterion': 'entropy',\n",
              " 'max_depth': 15,\n",
              " 'max_features': 28,\n",
              " 'min_impurity_decrease': 0.03440764696895577,\n",
              " 'min_samples_leaf': 8,\n",
              " 'n_estimators': 134}"
            ]
          },
          "metadata": {
            "tags": []
          },
          "execution_count": 21
        }
      ]
    },
    {
      "cell_type": "code",
      "metadata": {
        "id": "gNQ3zh8X-lo2",
        "colab_type": "code",
        "colab": {
          "base_uri": "https://localhost:8080/",
          "height": 34
        },
        "outputId": "91a8cd9d-8cf7-4794-d32c-304b5ec4a4be"
      },
      "source": [
        "# melhor score \n",
        "searchGrid.best_score_"
      ],
      "execution_count": 22,
      "outputs": [
        {
          "output_type": "execute_result",
          "data": {
            "text/plain": [
              "0.9422468354430379"
            ]
          },
          "metadata": {
            "tags": []
          },
          "execution_count": 22
        }
      ]
    },
    {
      "cell_type": "code",
      "metadata": {
        "id": "lhyc4cd78C5e",
        "colab_type": "code",
        "colab": {
          "base_uri": "https://localhost:8080/",
          "height": 170
        },
        "outputId": "03d53573-b7eb-4dd1-e400-f26dd022f017"
      },
      "source": [
        "# Avaliando pós tuning \n",
        "y_pred = searchGrid.predict(X_test)\n",
        "print(classification_report(y_test, y_pred))"
      ],
      "execution_count": 23,
      "outputs": [
        {
          "output_type": "stream",
          "text": [
            "              precision    recall  f1-score   support\n",
            "\n",
            "           0       0.95      0.97      0.96       108\n",
            "           1       0.95      0.92      0.94        63\n",
            "\n",
            "    accuracy                           0.95       171\n",
            "   macro avg       0.95      0.95      0.95       171\n",
            "weighted avg       0.95      0.95      0.95       171\n",
            "\n"
          ],
          "name": "stdout"
        }
      ]
    },
    {
      "cell_type": "markdown",
      "metadata": {
        "id": "EdGLnsuekIUV",
        "colab_type": "text"
      },
      "source": [
        "<hr>\n",
        "<br>\n",
        "<br>"
      ]
    },
    {
      "cell_type": "markdown",
      "metadata": {
        "id": "vIwKDl7lkUkD",
        "colab_type": "text"
      },
      "source": [
        "### Skopt \n",
        "\n",
        "Otimização com Scikit-optimize \n",
        "\n",
        "<hr>\n"
      ]
    },
    {
      "cell_type": "code",
      "metadata": {
        "id": "m09laCy6n9rA",
        "colab_type": "code",
        "colab": {
          "base_uri": "https://localhost:8080/",
          "height": 136
        },
        "outputId": "1116b535-68b0-4d62-9149-e7f39b6a7452"
      },
      "source": [
        "!pip install scikit-optimize"
      ],
      "execution_count": 24,
      "outputs": [
        {
          "output_type": "stream",
          "text": [
            "Requirement already satisfied: scikit-optimize in /usr/local/lib/python3.6/dist-packages (0.7.4)\n",
            "Requirement already satisfied: pyaml>=16.9 in /usr/local/lib/python3.6/dist-packages (from scikit-optimize) (20.4.0)\n",
            "Requirement already satisfied: joblib>=0.11 in /usr/local/lib/python3.6/dist-packages (from scikit-optimize) (0.15.1)\n",
            "Requirement already satisfied: numpy>=1.11.0 in /usr/local/lib/python3.6/dist-packages (from scikit-optimize) (1.18.5)\n",
            "Requirement already satisfied: scipy>=0.18.0 in /usr/local/lib/python3.6/dist-packages (from scikit-optimize) (1.4.1)\n",
            "Requirement already satisfied: scikit-learn>=0.19.1 in /usr/local/lib/python3.6/dist-packages (from scikit-optimize) (0.22.2.post1)\n",
            "Requirement already satisfied: PyYAML in /usr/local/lib/python3.6/dist-packages (from pyaml>=16.9->scikit-optimize) (3.13)\n"
          ],
          "name": "stdout"
        }
      ]
    },
    {
      "cell_type": "code",
      "metadata": {
        "id": "mv5h-TekmD3O",
        "colab_type": "code",
        "colab": {}
      },
      "source": [
        "from skopt import dummy_minimize\n",
        "from lightgbm import LGBMClassifier"
      ],
      "execution_count": 25,
      "outputs": []
    },
    {
      "cell_type": "code",
      "metadata": {
        "id": "N46H4tCZmNDl",
        "colab_type": "code",
        "colab": {
          "base_uri": "https://localhost:8080/",
          "height": 1000
        },
        "outputId": "906b1775-43e7-4cdb-f19d-dcd61949d5ae"
      },
      "source": [
        "def treinar_modelo(params):\n",
        "    # hiperparâmetros \n",
        "    learning_rate = params[0]\n",
        "    num_leaves = params[1]\n",
        "    min_child_samples = params[2]\n",
        "    subsample = params[3]\n",
        "    colsample_bytree = params[4]\n",
        "    \n",
        "    print(params)\n",
        "    print('\\n')\n",
        "\n",
        "    # modelo\n",
        "    mdl = LGBMClassifier(learning_rate=learning_rate, num_leaves=num_leaves, min_child_samples=min_child_samples,\n",
        "                         subsample=subsample, colsample_bytree=colsample_bytree ,random_state=42, subsample_freq=1, n_estimators=100, bagging_freq=1,\n",
        "                         feature_fraction=0.8)\n",
        "    mdl.fit(X_train, y_train)\n",
        "    y_pred = mdl.predict(X_test)\n",
        "\n",
        "    # minimizar a função (inversa da métrica)\n",
        "    return -accuracy_score(y_test, y_pred)\n",
        "\n",
        "\n",
        "\n",
        "# Intervalo de distribuições \n",
        "\n",
        "space = [(1e-3, 1e-1, 'log-uniform'), # learning rate\n",
        "         (2,120), # num_leaves\n",
        "         (1,100), # min_child_samples\n",
        "         (0.05, 1.0), # subsample \n",
        "         (0.1, 1.0)] # colsample_bytree\n",
        "\n",
        "\n",
        "resultados = dummy_minimize(treinar_modelo, space, random_state=42, verbose=1, n_calls=30)"
      ],
      "execution_count": 26,
      "outputs": [
        {
          "output_type": "stream",
          "text": [
            "Iteration No: 1 started. Evaluating function at random point.\n",
            "[0.03918194347141743, 16, 72, 0.6187255599871848, 0.2404167763981929]\n",
            "\n",
            "\n",
            "Iteration No: 1 ended. Evaluation done at random point.\n",
            "Time taken: 0.0266\n",
            "Function value obtained: -0.9591\n",
            "Current minimum: -0.9591\n",
            "Iteration No: 2 started. Evaluating function at random point.\n",
            "[0.002051110418843398, 76, 75, 0.8728673384861885, 0.6410035105688879]\n",
            "\n",
            "\n",
            "Iteration No: 2 ended. Evaluation done at random point.\n",
            "Time taken: 0.0359\n",
            "Function value obtained: -0.6316\n",
            "Current minimum: -0.9591\n",
            "Iteration No: 3 started. Evaluating function at random point.\n",
            "[0.026070247583707674, 23, 53, 0.9714143595538948, 0.8491983767203797]\n",
            "\n",
            "\n",
            "Iteration No: 3 ended. Evaluation done at random point.\n",
            "Time taken: 0.0350\n",
            "Function value obtained: -0.9591\n",
            "Current minimum: -0.9591\n",
            "Iteration No: 4 started. Evaluating function at random point.\n",
            "[0.0026587543983272693, 65, 60, 0.22423428436076215, 0.373818018663584]\n",
            "\n",
            "\n",
            "Iteration No: 4 ended. Evaluation done at random point.\n",
            "Time taken: 0.0101\n",
            "Function value obtained: -0.6316\n",
            "Current minimum: -0.9591\n",
            "Iteration No: 5 started. Evaluating function at random point.\n",
            "[0.011207606211860571, 109, 89, 0.3266676831881398, 0.6506676052501416]\n",
            "\n",
            "\n",
            "Iteration No: 5 ended. Evaluation done at random point.\n",
            "Time taken: 0.0124\n",
            "Function value obtained: -0.6316\n",
            "Current minimum: -0.9591\n",
            "Iteration No: 6 started. Evaluating function at random point.\n",
            "[0.001901024531987036, 93, 60, 0.39804375112900714, 0.5104629857953324]\n",
            "\n",
            "\n",
            "Iteration No: 6 ended. Evaluation done at random point.\n",
            "Time taken: 0.0178\n",
            "Function value obtained: -0.6316\n",
            "Current minimum: -0.9591\n",
            "Iteration No: 7 started. Evaluating function at random point.\n",
            "[0.0371836418057321, 52, 55, 0.9840693415164489, 0.520086603923182]\n",
            "\n",
            "\n",
            "Iteration No: 7 ended. Evaluation done at random point.\n",
            "Time taken: 0.0339\n",
            "Function value obtained: -0.9591\n",
            "Current minimum: -0.9591\n",
            "Iteration No: 8 started. Evaluating function at random point.\n",
            "[0.05246634533625288, 8, 21, 0.47797428937106584, 0.11193846504387989]\n",
            "\n",
            "\n",
            "Iteration No: 8 ended. Evaluation done at random point.\n",
            "Time taken: 0.0454\n",
            "Function value obtained: -0.9649\n",
            "Current minimum: -0.9649\n",
            "Iteration No: 9 started. Evaluating function at random point.\n",
            "[0.07663082680255859, 15, 9, 0.06516793960920349, 0.30780444305993415]\n",
            "\n",
            "\n",
            "Iteration No: 9 ended. Evaluation done at random point.\n",
            "Time taken: 0.0145\n",
            "Function value obtained: -0.9591\n",
            "Current minimum: -0.9649\n",
            "Iteration No: 10 started. Evaluating function at random point.\n",
            "[0.003034247005811289, 61, 71, 0.6294968248934899, 0.849875420562548]\n",
            "\n",
            "\n",
            "Iteration No: 10 ended. Evaluation done at random point.\n",
            "Time taken: 0.0213\n",
            "Function value obtained: -0.9064\n",
            "Current minimum: -0.9649\n",
            "Iteration No: 11 started. Evaluating function at random point.\n",
            "[0.0022219245475399163, 82, 36, 0.22312428339865925, 0.7798252692858874]\n",
            "\n",
            "\n",
            "Iteration No: 11 ended. Evaluation done at random point.\n",
            "Time taken: 0.0162\n",
            "Function value obtained: -0.6316\n",
            "Current minimum: -0.9649\n",
            "Iteration No: 12 started. Evaluating function at random point.\n",
            "[0.007084541505250234, 55, 4, 0.22561173274925073, 0.9726261649881028]\n",
            "\n",
            "\n",
            "Iteration No: 12 ended. Evaluation done at random point.\n",
            "Time taken: 0.1001\n",
            "Function value obtained: -0.9591\n",
            "Current minimum: -0.9649\n",
            "Iteration No: 13 started. Evaluating function at random point.\n",
            "[0.0355030485812831, 35, 74, 0.9000859829062665, 0.6381099809299767]\n",
            "\n",
            "\n",
            "Iteration No: 13 ended. Evaluation done at random point.\n",
            "Time taken: 0.0262\n",
            "Function value obtained: -0.9591\n",
            "Current minimum: -0.9649\n",
            "Iteration No: 14 started. Evaluating function at random point.\n",
            "[0.06978281265126039, 73, 78, 0.23618371929818793, 0.14070456001948428]\n",
            "\n",
            "\n",
            "Iteration No: 14 ended. Evaluation done at random point.\n",
            "Time taken: 0.0100\n",
            "Function value obtained: -0.6316\n",
            "Current minimum: -0.9649\n",
            "Iteration No: 15 started. Evaluating function at random point.\n",
            "[0.004473636174621266, 81, 82, 0.5627075257696259, 0.6280760490974635]\n",
            "\n",
            "\n",
            "Iteration No: 15 ended. Evaluation done at random point.\n",
            "Time taken: 0.0200\n",
            "Function value obtained: -0.9240\n",
            "Current minimum: -0.9649\n",
            "Iteration No: 16 started. Evaluating function at random point.\n",
            "[0.0852139338138361, 61, 41, 0.3314598304188783, 0.24874024515670226]\n",
            "\n",
            "\n",
            "Iteration No: 16 ended. Evaluation done at random point.\n",
            "Time taken: 0.0268\n",
            "Function value obtained: -0.9766\n",
            "Current minimum: -0.9766\n",
            "Iteration No: 17 started. Evaluating function at random point.\n",
            "[0.0010746642789365084, 10, 88, 0.42513744226679123, 0.36413935724623436]\n",
            "\n",
            "\n",
            "Iteration No: 17 ended. Evaluation done at random point.\n",
            "Time taken: 0.0155\n",
            "Function value obtained: -0.6316\n",
            "Current minimum: -0.9766\n",
            "Iteration No: 18 started. Evaluating function at random point.\n",
            "[0.0010669882710369707, 116, 81, 0.7257748551112175, 0.8111579864780851]\n",
            "\n",
            "\n",
            "Iteration No: 18 ended. Evaluation done at random point.\n",
            "Time taken: 0.0275\n",
            "Function value obtained: -0.6316\n",
            "Current minimum: -0.9766\n",
            "Iteration No: 19 started. Evaluating function at random point.\n",
            "[0.016289957436723502, 107, 41, 0.9192116917665918, 0.8650347200108195]\n",
            "\n",
            "\n",
            "Iteration No: 19 ended. Evaluation done at random point.\n",
            "Time taken: 0.0436\n",
            "Function value obtained: -0.9532\n",
            "Current minimum: -0.9766\n",
            "Iteration No: 20 started. Evaluating function at random point.\n",
            "[0.007923213310872085, 34, 48, 0.40227733958835304, 0.7019571273972466]\n",
            "\n",
            "\n",
            "Iteration No: 20 ended. Evaluation done at random point.\n",
            "Time taken: 0.0204\n",
            "Function value obtained: -0.9474\n",
            "Current minimum: -0.9766\n",
            "Iteration No: 21 started. Evaluating function at random point.\n",
            "[0.02147062631022881, 45, 86, 0.8928521054475104, 0.5249934326457545]\n",
            "\n",
            "\n",
            "Iteration No: 21 ended. Evaluation done at random point.\n",
            "Time taken: 0.0220\n",
            "Function value obtained: -0.9532\n",
            "Current minimum: -0.9766\n",
            "Iteration No: 22 started. Evaluating function at random point.\n",
            "[0.0017345566642360934, 79, 3, 0.7727457961860527, 0.6051494778125467]\n",
            "\n",
            "\n",
            "Iteration No: 22 ended. Evaluation done at random point.\n",
            "Time taken: 0.3778\n",
            "Function value obtained: -0.6316\n",
            "Current minimum: -0.9766\n",
            "Iteration No: 23 started. Evaluating function at random point.\n",
            "[0.03482846706526886, 104, 27, 0.5465961879128944, 0.4847869165226947]\n",
            "\n",
            "\n",
            "Iteration No: 23 ended. Evaluation done at random point.\n",
            "Time taken: 0.0404\n",
            "Function value obtained: -0.9708\n",
            "Current minimum: -0.9766\n",
            "Iteration No: 24 started. Evaluating function at random point.\n",
            "[0.0011241862095793065, 78, 51, 0.07985772640239755, 0.6727693701374025]\n",
            "\n",
            "\n",
            "Iteration No: 24 ended. Evaluation done at random point.\n",
            "Time taken: 0.0101\n",
            "Function value obtained: -0.6316\n",
            "Current minimum: -0.9766\n",
            "Iteration No: 25 started. Evaluating function at random point.\n",
            "[0.004253162363790871, 97, 4, 0.9121881502297885, 0.3243630062339875]\n",
            "\n",
            "\n",
            "Iteration No: 25 ended. Evaluation done at random point.\n",
            "Time taken: 0.3540\n",
            "Function value obtained: -0.9591\n",
            "Current minimum: -0.9766\n",
            "Iteration No: 26 started. Evaluating function at random point.\n",
            "[0.006618595597183485, 44, 29, 0.2673582572170414, 0.1692819188459137]\n",
            "\n",
            "\n",
            "Iteration No: 26 ended. Evaluation done at random point.\n",
            "Time taken: 0.0204\n",
            "Function value obtained: -0.9474\n",
            "Current minimum: -0.9766\n",
            "Iteration No: 27 started. Evaluating function at random point.\n",
            "[0.003797544798678417, 87, 28, 0.9332127697254445, 0.8273083416079754]\n",
            "\n",
            "\n",
            "Iteration No: 27 ended. Evaluation done at random point.\n",
            "Time taken: 0.0644\n",
            "Function value obtained: -0.9415\n",
            "Current minimum: -0.9766\n",
            "Iteration No: 28 started. Evaluating function at random point.\n",
            "[0.018484491720988625, 7, 28, 0.8134884730541588, 0.2679130529974323]\n",
            "\n",
            "\n",
            "Iteration No: 28 ended. Evaluation done at random point.\n",
            "Time taken: 0.0552\n",
            "Function value obtained: -0.9532\n",
            "Current minimum: -0.9766\n",
            "Iteration No: 29 started. Evaluating function at random point.\n",
            "[0.06097025297491439, 76, 92, 0.3884829461731262, 0.9161455973911787]\n",
            "\n",
            "\n",
            "Iteration No: 29 ended. Evaluation done at random point.\n",
            "Time taken: 0.0107\n",
            "Function value obtained: -0.6316\n",
            "Current minimum: -0.9766\n",
            "Iteration No: 30 started. Evaluating function at random point.\n",
            "[0.0035015835937029, 28, 62, 0.05049435814555003, 0.4173119707007522]\n",
            "\n",
            "\n",
            "Iteration No: 30 ended. Evaluation done at random point.\n",
            "Time taken: 0.0090\n",
            "Function value obtained: -0.6316\n",
            "Current minimum: -0.9766\n"
          ],
          "name": "stdout"
        }
      ]
    },
    {
      "cell_type": "code",
      "metadata": {
        "id": "0Ur4piMvtzta",
        "colab_type": "code",
        "colab": {
          "base_uri": "https://localhost:8080/",
          "height": 34
        },
        "outputId": "b51babf7-226e-4d6f-b1c0-7ed9a406ea23"
      },
      "source": [
        "# Melhores hiperparâmetros \n",
        "resultados.x"
      ],
      "execution_count": 27,
      "outputs": [
        {
          "output_type": "execute_result",
          "data": {
            "text/plain": [
              "[0.0852139338138361, 61, 41, 0.3314598304188783, 0.24874024515670226]"
            ]
          },
          "metadata": {
            "tags": []
          },
          "execution_count": 27
        }
      ]
    },
    {
      "cell_type": "code",
      "metadata": {
        "id": "D5LXT0I8ybJ9",
        "colab_type": "code",
        "colab": {}
      },
      "source": [
        "# Acurácia = 0.9766 | [0.0852139338138361, 61, 41, 0.3314598304188783, 0.24874024515670226]\n"
      ],
      "execution_count": 28,
      "outputs": []
    },
    {
      "cell_type": "markdown",
      "metadata": {
        "id": "HwziNrqOzEjz",
        "colab_type": "text"
      },
      "source": [
        "<br>\n",
        "<hr>\n",
        "\n",
        "\n",
        "### Bayesian Optimization \n",
        "\n",
        "Técnica mais robusta de Otimização, a otmização bayesiana faz uma busca aleatória nas distribuições passadas, e treina o modelo para entender como a função que queremos otimizar varia conforme os parâmetros.\n",
        "\n",
        "\n",
        "Temos uma busca mais guiada, buscando áreas para minimizar mais a função objetivo, há pesos maiores para determinados parâmetros, consigo buscar espaços com diferentes pesos para otimizar os hiperparâmetros. \n",
        "\n",
        "\n",
        "<b> Cria modelos de hiperpâmetros, prevendo os valores da função que desejamos minimizar, e vai selecionar o ponto mais promissor na distribuição, qual a combinação de hiperparâmetros é a mais promissora, para se testar. </b>\n",
        "\n",
        "* Vai encontrar parâmetros com mais importância que outros, e vai buscar mais a fundo esses parâmetros.  "
      ]
    },
    {
      "cell_type": "code",
      "metadata": {
        "id": "iBxDsj3fzDpo",
        "colab_type": "code",
        "colab": {}
      },
      "source": [
        "from skopt import gp_minimize "
      ],
      "execution_count": 29,
      "outputs": []
    },
    {
      "cell_type": "code",
      "metadata": {
        "id": "of8At9aA3GNR",
        "colab_type": "code",
        "colab": {
          "base_uri": "https://localhost:8080/",
          "height": 1000
        },
        "outputId": "77f9ccfc-7ced-4494-d880-0c24a0024b21"
      },
      "source": [
        "resultados_gp = gp_minimize(treinar_modelo, space, random_state=42, verbose=1, n_calls=30, n_random_starts=10) # parâmetro n_random_starts"
      ],
      "execution_count": 30,
      "outputs": [
        {
          "output_type": "stream",
          "text": [
            "Iteration No: 1 started. Evaluating function at random point.\n",
            "[0.03918194347141743, 24, 78, 0.6170076500491628, 0.5012494775682321]\n",
            "\n",
            "\n",
            "Iteration No: 1 ended. Evaluation done at random point.\n",
            "Time taken: 0.0232\n",
            "Function value obtained: -0.9708\n",
            "Current minimum: -0.9708\n",
            "Iteration No: 2 started. Evaluating function at random point.\n",
            "[0.0015847101210439095, 56, 34, 0.18572347702584374, 0.6857996256539677]\n",
            "\n",
            "\n",
            "Iteration No: 2 ended. Evaluation done at random point.\n",
            "Time taken: 0.0179\n",
            "Function value obtained: -0.6316\n",
            "Current minimum: -0.9708\n",
            "Iteration No: 3 started. Evaluating function at random point.\n",
            "[0.00129665117537604, 87, 94, 0.05073982754896361, 0.992990403362096]\n",
            "\n",
            "\n",
            "Iteration No: 3 ended. Evaluation done at random point.\n",
            "Time taken: 0.0104\n",
            "Function value obtained: -0.6316\n",
            "Current minimum: -0.9708\n",
            "Iteration No: 4 started. Evaluating function at random point.\n",
            "[0.017177621112338382, 74, 2, 0.07190930378934497, 0.5722971942325503]\n",
            "\n",
            "\n",
            "Iteration No: 4 ended. Evaluation done at random point.\n",
            "Time taken: 0.0650\n",
            "Function value obtained: -0.9474\n",
            "Current minimum: -0.9708\n",
            "Iteration No: 5 started. Evaluating function at random point.\n",
            "[0.006305535040199288, 8, 97, 0.27113277340878905, 0.18154579107953872]\n",
            "\n",
            "\n",
            "Iteration No: 5 ended. Evaluation done at random point.\n",
            "Time taken: 0.0090\n",
            "Function value obtained: -0.6316\n",
            "Current minimum: -0.9708\n",
            "Iteration No: 6 started. Evaluating function at random point.\n",
            "[0.017249321573179006, 47, 98, 0.493424748585581, 0.8739463660626887]\n",
            "\n",
            "\n",
            "Iteration No: 6 ended. Evaluation done at random point.\n",
            "Time taken: 0.0165\n",
            "Function value obtained: -0.9532\n",
            "Current minimum: -0.9708\n",
            "Iteration No: 7 started. Evaluating function at random point.\n",
            "[0.022941144328643994, 55, 2, 0.9450916679006104, 0.6069593960609855]\n",
            "\n",
            "\n",
            "Iteration No: 7 ended. Evaluation done at random point.\n",
            "Time taken: 0.3109\n",
            "Function value obtained: -0.9591\n",
            "Current minimum: -0.9708\n",
            "Iteration No: 8 started. Evaluating function at random point.\n",
            "[0.005899741796710488, 4, 24, 0.2789741927247112, 0.7149371669429125]\n",
            "\n",
            "\n",
            "Iteration No: 8 ended. Evaluation done at random point.\n",
            "Time taken: 0.0285\n",
            "Function value obtained: -0.9474\n",
            "Current minimum: -0.9708\n",
            "Iteration No: 9 started. Evaluating function at random point.\n",
            "[0.016595613641357258, 100, 18, 0.4215075771945788, 0.2640124790092561]\n",
            "\n",
            "\n",
            "Iteration No: 9 ended. Evaluation done at random point.\n",
            "Time taken: 0.0501\n",
            "Function value obtained: -0.9591\n",
            "Current minimum: -0.9708\n",
            "Iteration No: 10 started. Evaluating function at random point.\n",
            "[0.0324132680419563, 52, 22, 0.5893153114289921, 0.12818196321000275]\n",
            "\n",
            "\n",
            "Iteration No: 10 ended. Evaluation done at random point.\n",
            "Time taken: 0.5338\n",
            "Function value obtained: -0.9649\n",
            "Current minimum: -0.9708\n",
            "Iteration No: 11 started. Searching for the next optimal point.\n",
            "[0.024746009258405803, 47, 83, 1.0, 0.9942124290151326]\n",
            "\n",
            "\n",
            "Iteration No: 11 ended. Search finished for the next optimal point.\n",
            "Time taken: 0.4903\n",
            "Function value obtained: -0.9591\n",
            "Current minimum: -0.9708\n",
            "Iteration No: 12 started. Searching for the next optimal point.\n",
            "[0.1, 2, 1, 1.0, 1.0]\n",
            "\n",
            "\n",
            "Iteration No: 12 ended. Search finished for the next optimal point.\n",
            "Time taken: 0.4409\n",
            "Function value obtained: -0.9591\n",
            "Current minimum: -0.9708\n",
            "Iteration No: 13 started. Searching for the next optimal point.\n",
            "[0.1, 120, 100, 0.6588573370313334, 0.1892240398266101]\n",
            "\n",
            "\n",
            "Iteration No: 13 ended. Search finished for the next optimal point.\n",
            "Time taken: 0.5504\n",
            "Function value obtained: -0.9766\n",
            "Current minimum: -0.9766\n",
            "Iteration No: 14 started. Searching for the next optimal point.\n",
            "[0.1, 12, 55, 0.14007816911036683, 0.33912958749314626]\n",
            "\n",
            "\n",
            "Iteration No: 14 ended. Search finished for the next optimal point.\n",
            "Time taken: 0.4680\n",
            "Function value obtained: -0.6316\n",
            "Current minimum: -0.9766\n",
            "Iteration No: 15 started. Searching for the next optimal point.\n",
            "[0.03498525710565072, 50, 97, 0.3705195239489499, 0.5458031878496985]\n",
            "\n",
            "\n",
            "Iteration No: 15 ended. Search finished for the next optimal point.\n",
            "Time taken: 0.4467\n",
            "Function value obtained: -0.6316\n",
            "Current minimum: -0.9766\n",
            "Iteration No: 16 started. Searching for the next optimal point.\n",
            "[0.04590550915850089, 48, 99, 0.05721422691169134, 0.33681195513440243]\n",
            "\n",
            "\n",
            "Iteration No: 16 ended. Search finished for the next optimal point.\n",
            "Time taken: 0.4222\n",
            "Function value obtained: -0.6316\n",
            "Current minimum: -0.9766\n",
            "Iteration No: 17 started. Searching for the next optimal point.\n",
            "[0.023866149566767237, 44, 76, 0.7394744196718017, 0.9714089848832183]\n",
            "\n",
            "\n",
            "Iteration No: 17 ended. Search finished for the next optimal point.\n",
            "Time taken: 0.4534\n",
            "Function value obtained: -0.9532\n",
            "Current minimum: -0.9766\n",
            "Iteration No: 18 started. Searching for the next optimal point.\n",
            "[0.07784539029407843, 2, 1, 0.4716950863632197, 0.9116003243366468]\n",
            "\n",
            "\n",
            "Iteration No: 18 ended. Search finished for the next optimal point.\n",
            "Time taken: 0.3559\n",
            "Function value obtained: -0.9708\n",
            "Current minimum: -0.9766\n",
            "Iteration No: 19 started. Searching for the next optimal point.\n",
            "[0.0034509656783107603, 5, 1, 0.4508102250797974, 0.7265441144854875]\n",
            "\n",
            "\n",
            "Iteration No: 19 ended. Search finished for the next optimal point.\n",
            "Time taken: 0.4403\n",
            "Function value obtained: -0.9298\n",
            "Current minimum: -0.9766\n",
            "Iteration No: 20 started. Searching for the next optimal point.\n",
            "[0.037522272408459956, 74, 40, 0.7491504721738929, 0.5622108421311383]\n",
            "\n",
            "\n",
            "Iteration No: 20 ended. Search finished for the next optimal point.\n",
            "Time taken: 0.4950\n",
            "Function value obtained: -0.9649\n",
            "Current minimum: -0.9766\n",
            "Iteration No: 21 started. Searching for the next optimal point.\n",
            "[0.001, 2, 99, 0.7080816322418172, 1.0]\n",
            "\n",
            "\n",
            "Iteration No: 21 ended. Search finished for the next optimal point.\n",
            "Time taken: 0.5149\n",
            "Function value obtained: -0.6316\n",
            "Current minimum: -0.9766\n",
            "Iteration No: 22 started. Searching for the next optimal point.\n",
            "[0.1, 85, 100, 0.9413336151119879, 0.896473124190496]\n",
            "\n",
            "\n",
            "Iteration No: 22 ended. Search finished for the next optimal point.\n",
            "Time taken: 0.5170\n",
            "Function value obtained: -0.9708\n",
            "Current minimum: -0.9766\n",
            "Iteration No: 23 started. Searching for the next optimal point.\n",
            "[0.03535327440087809, 53, 75, 0.39639747458792424, 0.5143289440322572]\n",
            "\n",
            "\n",
            "Iteration No: 23 ended. Search finished for the next optimal point.\n",
            "Time taken: 0.5998\n",
            "Function value obtained: -0.9649\n",
            "Current minimum: -0.9766\n",
            "Iteration No: 24 started. Searching for the next optimal point.\n",
            "[0.021252159674781796, 22, 36, 0.8947954213910865, 0.16852342437691215]\n",
            "\n",
            "\n",
            "Iteration No: 24 ended. Search finished for the next optimal point.\n",
            "Time taken: 0.4994\n",
            "Function value obtained: -0.9649\n",
            "Current minimum: -0.9766\n",
            "Iteration No: 25 started. Searching for the next optimal point.\n",
            "[0.03052894617988613, 83, 35, 0.8969267929405451, 0.6550898169409326]\n",
            "\n",
            "\n",
            "Iteration No: 25 ended. Search finished for the next optimal point.\n",
            "Time taken: 0.5569\n",
            "Function value obtained: -0.9649\n",
            "Current minimum: -0.9766\n",
            "Iteration No: 26 started. Searching for the next optimal point.\n",
            "[0.061955198229371705, 5, 15, 0.34873432722474473, 0.9257467730821344]\n",
            "\n",
            "\n",
            "Iteration No: 26 ended. Search finished for the next optimal point.\n",
            "Time taken: 0.4996\n",
            "Function value obtained: -0.9708\n",
            "Current minimum: -0.9766\n",
            "Iteration No: 27 started. Searching for the next optimal point.\n",
            "[0.007350822450988915, 36, 7, 0.9971972031144657, 0.9321886623403812]\n",
            "\n",
            "\n",
            "Iteration No: 27 ended. Search finished for the next optimal point.\n",
            "Time taken: 0.6694\n",
            "Function value obtained: -0.9708\n",
            "Current minimum: -0.9766\n",
            "Iteration No: 28 started. Searching for the next optimal point.\n",
            "[0.048037900502084716, 15, 8, 0.8518560302950606, 0.678121891737889]\n",
            "\n",
            "\n",
            "Iteration No: 28 ended. Search finished for the next optimal point.\n",
            "Time taken: 0.5796\n",
            "Function value obtained: -0.9649\n",
            "Current minimum: -0.9766\n",
            "Iteration No: 29 started. Searching for the next optimal point.\n",
            "[0.009462926229601723, 105, 49, 0.2627056395910856, 0.9357195793442061]\n",
            "\n",
            "\n",
            "Iteration No: 29 ended. Search finished for the next optimal point.\n",
            "Time taken: 0.5634\n",
            "Function value obtained: -0.9591\n",
            "Current minimum: -0.9766\n",
            "Iteration No: 30 started. Searching for the next optimal point.\n",
            "[0.010529124712534078, 4, 33, 0.5529175938921534, 0.9798438123899221]\n",
            "\n",
            "\n",
            "Iteration No: 30 ended. Search finished for the next optimal point.\n",
            "Time taken: 0.5544\n",
            "Function value obtained: -0.9532\n",
            "Current minimum: -0.9766\n"
          ],
          "name": "stdout"
        }
      ]
    },
    {
      "cell_type": "code",
      "metadata": {
        "id": "AqQcWtqa40Am",
        "colab_type": "code",
        "colab": {
          "base_uri": "https://localhost:8080/",
          "height": 34
        },
        "outputId": "ac322687-ff5e-4f01-ed54-1ff6ed4c062b"
      },
      "source": [
        "# Melhores parâmetros \n",
        "resultados_gp.x"
      ],
      "execution_count": 31,
      "outputs": [
        {
          "output_type": "execute_result",
          "data": {
            "text/plain": [
              "[0.1, 120, 100, 0.6588573370313334, 0.1892240398266101]"
            ]
          },
          "metadata": {
            "tags": []
          },
          "execution_count": 31
        }
      ]
    },
    {
      "cell_type": "code",
      "metadata": {
        "id": "qG1fFyYY45Fi",
        "colab_type": "code",
        "colab": {}
      },
      "source": [
        "# Acurácia: 0.9766 | [0.1, 120, 100, 0.6588573370313334, 0.1892240398266101]"
      ],
      "execution_count": 32,
      "outputs": []
    },
    {
      "cell_type": "markdown",
      "metadata": {
        "id": "G4-MRZwx51gG",
        "colab_type": "text"
      },
      "source": [
        "<hr>\n",
        "<br>\n",
        "\n",
        "\n",
        "#### Random Search X Bayesian Optimization \n",
        "\n",
        "comparação de resultados e desempenho das duas técnicas"
      ]
    },
    {
      "cell_type": "code",
      "metadata": {
        "id": "h7EUc3FU57aw",
        "colab_type": "code",
        "colab": {}
      },
      "source": [
        "from skopt.plots import plot_convergence"
      ],
      "execution_count": 33,
      "outputs": []
    },
    {
      "cell_type": "code",
      "metadata": {
        "id": "r1GRuFYk59lV",
        "colab_type": "code",
        "colab": {
          "base_uri": "https://localhost:8080/",
          "height": 314
        },
        "outputId": "00173ea5-21a5-4f9d-afc3-a4f9df886dd8"
      },
      "source": [
        "# Comparação \n",
        "plot_convergence(resultados, resultados_gp)"
      ],
      "execution_count": 34,
      "outputs": [
        {
          "output_type": "execute_result",
          "data": {
            "text/plain": [
              "<matplotlib.axes._subplots.AxesSubplot at 0x7f0707b7e5c0>"
            ]
          },
          "metadata": {
            "tags": []
          },
          "execution_count": 34
        },
        {
          "output_type": "display_data",
          "data": {
            "image/png": "[encoded data removed]",
            "text/plain": [
              "<Figure size 432x288 with 1 Axes>"
            ]
          },
          "metadata": {
            "tags": [],
            "needs_background": "light"
          }
        }
      ]
    },
    {
      "cell_type": "markdown",
      "metadata": {
        "id": "EoMOqN--6VRS",
        "colab_type": "text"
      },
      "source": [
        "\n",
        "Random Search (azul)\n",
        "Bayesian Optmization (amarelo)\n",
        "\n",
        "Comparando a Random Search com Bayesian Optimization, neste caso ambos encontraram o mesmo valor mínimo da função que otimizamos (acurácia), mas a Otimização Bayesiana, convergiu com o mínimo de forma bem mais rápida que a Random Search. "
      ]
    }
  ]
}