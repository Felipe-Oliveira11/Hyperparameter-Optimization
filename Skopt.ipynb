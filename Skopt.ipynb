{
  "nbformat": 4,
  "nbformat_minor": 0,
  "metadata": {
    "colab": {
      "name": "Skopt.ipynb",
      "provenance": [],
      "collapsed_sections": [],
      "mount_file_id": "1iBwQzYJG10CmtrGskz1Usjw4JfggBJHS",
      "authorship_tag": "ABX9TyPGgCCjUmNwuKbp2f9fYW3e",
      "include_colab_link": true
    },
    "kernelspec": {
      "name": "python3",
      "display_name": "Python 3"
    },
    "accelerator": "GPU"
  },
  "cells": [
    {
      "cell_type": "markdown",
      "metadata": {
        "id": "view-in-github",
        "colab_type": "text"
      },
      "source": [
        "<a href=\"https://colab.research.google.com/github/Felipe-Oliveira11/Hyperparameter-Optimization/blob/master/Skopt.ipynb\" target=\"_parent\"><img src=\"https://colab.research.google.com/assets/colab-badge.svg\" alt=\"Open In Colab\"/></a>"
      ]
    },
    {
      "cell_type": "markdown",
      "metadata": {
        "id": "YwbrF0av-t5z",
        "colab_type": "text"
      },
      "source": [
        "### Skopt \n",
        "\n",
        "O Scikit-Optimize, ou skopt, é uma biblioteca simples e eficiente para minimizar as funções da caixa preta (muito) caras e barulhentas. Ele implementa vários métodos para otimização sequencial baseada em modelo. skoptvisa ser acessível e fácil de usar em muitos contextos.\n",
        "\n",
        "\n",
        "<br>\n",
        "<hr>"
      ]
    },
    {
      "cell_type": "code",
      "metadata": {
        "id": "1g620jcp9Lf1",
        "colab_type": "code",
        "colab": {
          "base_uri": "https://localhost:8080/",
          "height": 241
        },
        "outputId": "4d8115f4-8a98-437e-a9a0-aa5147843acf"
      },
      "source": [
        "!pip install scikit-optimize"
      ],
      "execution_count": 1,
      "outputs": [
        {
          "output_type": "stream",
          "text": [
            "Collecting scikit-optimize\n",
            "\u001b[?25l  Downloading https://files.pythonhosted.org/packages/5c/87/310b52debfbc0cb79764e5770fa3f5c18f6f0754809ea9e2fc185e1b67d3/scikit_optimize-0.7.4-py2.py3-none-any.whl (80kB)\n",
            "\r\u001b[K     |████                            | 10kB 18.7MB/s eta 0:00:01\r\u001b[K     |████████▏                       | 20kB 1.8MB/s eta 0:00:01\r\u001b[K     |████████████▎                   | 30kB 2.3MB/s eta 0:00:01\r\u001b[K     |████████████████▎               | 40kB 2.5MB/s eta 0:00:01\r\u001b[K     |████████████████████▍           | 51kB 2.0MB/s eta 0:00:01\r\u001b[K     |████████████████████████▌       | 61kB 2.2MB/s eta 0:00:01\r\u001b[K     |████████████████████████████▌   | 71kB 2.5MB/s eta 0:00:01\r\u001b[K     |████████████████████████████████| 81kB 2.2MB/s \n",
            "\u001b[?25hRequirement already satisfied: joblib>=0.11 in /usr/local/lib/python3.6/dist-packages (from scikit-optimize) (0.15.1)\n",
            "Collecting pyaml>=16.9\n",
            "  Downloading https://files.pythonhosted.org/packages/15/c4/1310a054d33abc318426a956e7d6df0df76a6ddfa9c66f6310274fb75d42/pyaml-20.4.0-py2.py3-none-any.whl\n",
            "Requirement already satisfied: scikit-learn>=0.19.1 in /usr/local/lib/python3.6/dist-packages (from scikit-optimize) (0.22.2.post1)\n",
            "Requirement already satisfied: scipy>=0.18.0 in /usr/local/lib/python3.6/dist-packages (from scikit-optimize) (1.4.1)\n",
            "Requirement already satisfied: numpy>=1.11.0 in /usr/local/lib/python3.6/dist-packages (from scikit-optimize) (1.18.5)\n",
            "Requirement already satisfied: PyYAML in /usr/local/lib/python3.6/dist-packages (from pyaml>=16.9->scikit-optimize) (3.13)\n",
            "Installing collected packages: pyaml, scikit-optimize\n",
            "Successfully installed pyaml-20.4.0 scikit-optimize-0.7.4\n"
          ],
          "name": "stdout"
        }
      ]
    },
    {
      "cell_type": "code",
      "metadata": {
        "id": "um4rNOJx9Tq5",
        "colab_type": "code",
        "colab": {
          "base_uri": "https://localhost:8080/",
          "height": 71
        },
        "outputId": "2263c553-c3a8-44d0-b82c-d453d270f08d"
      },
      "source": [
        "import pandas as pd \n",
        "import numpy as np \n",
        "import matplotlib.pyplot as plt \n",
        "import seaborn as sns \n",
        "import scipy.stats as stats\n",
        "\n",
        "%matplotlib inline \n",
        "import warnings\n",
        "warnings.filterwarnings('ignore')\n",
        "\n",
        "\n",
        "from sklearn.preprocessing import StandardScaler, LabelEncoder\n",
        "from sklearn.model_selection import train_test_split, cross_val_score\n",
        "from sklearn.ensemble import RandomForestClassifier\n",
        "from sklearn.metrics import classification_report, accuracy_score, roc_auc_score, precision_score"
      ],
      "execution_count": 2,
      "outputs": [
        {
          "output_type": "stream",
          "text": [
            "/usr/local/lib/python3.6/dist-packages/statsmodels/tools/_testing.py:19: FutureWarning: pandas.util.testing is deprecated. Use the functions in the public API at pandas.testing instead.\n",
            "  import pandas.util.testing as tm\n"
          ],
          "name": "stderr"
        }
      ]
    },
    {
      "cell_type": "code",
      "metadata": {
        "id": "OXlAcIDO9dUg",
        "colab_type": "code",
        "colab": {
          "base_uri": "https://localhost:8080/",
          "height": 241
        },
        "outputId": "70511940-fb7b-4b67-cd05-e39e80565235"
      },
      "source": [
        "# dados \n",
        "path = '/content/drive/My Drive/Inteligência Artificial - Colab/ML- Supervisionado /Random Forest /data.csv'\n",
        "data = pd.read_csv(path)\n",
        "data.head()"
      ],
      "execution_count": 3,
      "outputs": [
        {
          "output_type": "execute_result",
          "data": {
            "text/html": [
              "<div>\n",
              "<style scoped>\n",
              "    .dataframe tbody tr th:only-of-type {\n",
              "        vertical-align: middle;\n",
              "    }\n",
              "\n",
              "    .dataframe tbody tr th {\n",
              "        vertical-align: top;\n",
              "    }\n",
              "\n",
              "    .dataframe thead th {\n",
              "        text-align: right;\n",
              "    }\n",
              "</style>\n",
              "<table border=\"1\" class=\"dataframe\">\n",
              "  <thead>\n",
              "    <tr style=\"text-align: right;\">\n",
              "      <th></th>\n",
              "      <th>id</th>\n",
              "      <th>diagnosis</th>\n",
              "      <th>radius_mean</th>\n",
              "      <th>texture_mean</th>\n",
              "      <th>perimeter_mean</th>\n",
              "      <th>area_mean</th>\n",
              "      <th>smoothness_mean</th>\n",
              "      <th>compactness_mean</th>\n",
              "      <th>concavity_mean</th>\n",
              "      <th>concave points_mean</th>\n",
              "      <th>symmetry_mean</th>\n",
              "      <th>fractal_dimension_mean</th>\n",
              "      <th>radius_se</th>\n",
              "      <th>texture_se</th>\n",
              "      <th>perimeter_se</th>\n",
              "      <th>area_se</th>\n",
              "      <th>smoothness_se</th>\n",
              "      <th>compactness_se</th>\n",
              "      <th>concavity_se</th>\n",
              "      <th>concave points_se</th>\n",
              "      <th>symmetry_se</th>\n",
              "      <th>fractal_dimension_se</th>\n",
              "      <th>radius_worst</th>\n",
              "      <th>texture_worst</th>\n",
              "      <th>perimeter_worst</th>\n",
              "      <th>area_worst</th>\n",
              "      <th>smoothness_worst</th>\n",
              "      <th>compactness_worst</th>\n",
              "      <th>concavity_worst</th>\n",
              "      <th>concave points_worst</th>\n",
              "      <th>symmetry_worst</th>\n",
              "      <th>fractal_dimension_worst</th>\n",
              "      <th>Unnamed: 32</th>\n",
              "    </tr>\n",
              "  </thead>\n",
              "  <tbody>\n",
              "    <tr>\n",
              "      <th>0</th>\n",
              "      <td>842302</td>\n",
              "      <td>M</td>\n",
              "      <td>17.99</td>\n",
              "      <td>10.38</td>\n",
              "      <td>122.80</td>\n",
              "      <td>1001.0</td>\n",
              "      <td>0.11840</td>\n",
              "      <td>0.27760</td>\n",
              "      <td>0.3001</td>\n",
              "      <td>0.14710</td>\n",
              "      <td>0.2419</td>\n",
              "      <td>0.07871</td>\n",
              "      <td>1.0950</td>\n",
              "      <td>0.9053</td>\n",
              "      <td>8.589</td>\n",
              "      <td>153.40</td>\n",
              "      <td>0.006399</td>\n",
              "      <td>0.04904</td>\n",
              "      <td>0.05373</td>\n",
              "      <td>0.01587</td>\n",
              "      <td>0.03003</td>\n",
              "      <td>0.006193</td>\n",
              "      <td>25.38</td>\n",
              "      <td>17.33</td>\n",
              "      <td>184.60</td>\n",
              "      <td>2019.0</td>\n",
              "      <td>0.1622</td>\n",
              "      <td>0.6656</td>\n",
              "      <td>0.7119</td>\n",
              "      <td>0.2654</td>\n",
              "      <td>0.4601</td>\n",
              "      <td>0.11890</td>\n",
              "      <td>NaN</td>\n",
              "    </tr>\n",
              "    <tr>\n",
              "      <th>1</th>\n",
              "      <td>842517</td>\n",
              "      <td>M</td>\n",
              "      <td>20.57</td>\n",
              "      <td>17.77</td>\n",
              "      <td>132.90</td>\n",
              "      <td>1326.0</td>\n",
              "      <td>0.08474</td>\n",
              "      <td>0.07864</td>\n",
              "      <td>0.0869</td>\n",
              "      <td>0.07017</td>\n",
              "      <td>0.1812</td>\n",
              "      <td>0.05667</td>\n",
              "      <td>0.5435</td>\n",
              "      <td>0.7339</td>\n",
              "      <td>3.398</td>\n",
              "      <td>74.08</td>\n",
              "      <td>0.005225</td>\n",
              "      <td>0.01308</td>\n",
              "      <td>0.01860</td>\n",
              "      <td>0.01340</td>\n",
              "      <td>0.01389</td>\n",
              "      <td>0.003532</td>\n",
              "      <td>24.99</td>\n",
              "      <td>23.41</td>\n",
              "      <td>158.80</td>\n",
              "      <td>1956.0</td>\n",
              "      <td>0.1238</td>\n",
              "      <td>0.1866</td>\n",
              "      <td>0.2416</td>\n",
              "      <td>0.1860</td>\n",
              "      <td>0.2750</td>\n",
              "      <td>0.08902</td>\n",
              "      <td>NaN</td>\n",
              "    </tr>\n",
              "    <tr>\n",
              "      <th>2</th>\n",
              "      <td>84300903</td>\n",
              "      <td>M</td>\n",
              "      <td>19.69</td>\n",
              "      <td>21.25</td>\n",
              "      <td>130.00</td>\n",
              "      <td>1203.0</td>\n",
              "      <td>0.10960</td>\n",
              "      <td>0.15990</td>\n",
              "      <td>0.1974</td>\n",
              "      <td>0.12790</td>\n",
              "      <td>0.2069</td>\n",
              "      <td>0.05999</td>\n",
              "      <td>0.7456</td>\n",
              "      <td>0.7869</td>\n",
              "      <td>4.585</td>\n",
              "      <td>94.03</td>\n",
              "      <td>0.006150</td>\n",
              "      <td>0.04006</td>\n",
              "      <td>0.03832</td>\n",
              "      <td>0.02058</td>\n",
              "      <td>0.02250</td>\n",
              "      <td>0.004571</td>\n",
              "      <td>23.57</td>\n",
              "      <td>25.53</td>\n",
              "      <td>152.50</td>\n",
              "      <td>1709.0</td>\n",
              "      <td>0.1444</td>\n",
              "      <td>0.4245</td>\n",
              "      <td>0.4504</td>\n",
              "      <td>0.2430</td>\n",
              "      <td>0.3613</td>\n",
              "      <td>0.08758</td>\n",
              "      <td>NaN</td>\n",
              "    </tr>\n",
              "    <tr>\n",
              "      <th>3</th>\n",
              "      <td>84348301</td>\n",
              "      <td>M</td>\n",
              "      <td>11.42</td>\n",
              "      <td>20.38</td>\n",
              "      <td>77.58</td>\n",
              "      <td>386.1</td>\n",
              "      <td>0.14250</td>\n",
              "      <td>0.28390</td>\n",
              "      <td>0.2414</td>\n",
              "      <td>0.10520</td>\n",
              "      <td>0.2597</td>\n",
              "      <td>0.09744</td>\n",
              "      <td>0.4956</td>\n",
              "      <td>1.1560</td>\n",
              "      <td>3.445</td>\n",
              "      <td>27.23</td>\n",
              "      <td>0.009110</td>\n",
              "      <td>0.07458</td>\n",
              "      <td>0.05661</td>\n",
              "      <td>0.01867</td>\n",
              "      <td>0.05963</td>\n",
              "      <td>0.009208</td>\n",
              "      <td>14.91</td>\n",
              "      <td>26.50</td>\n",
              "      <td>98.87</td>\n",
              "      <td>567.7</td>\n",
              "      <td>0.2098</td>\n",
              "      <td>0.8663</td>\n",
              "      <td>0.6869</td>\n",
              "      <td>0.2575</td>\n",
              "      <td>0.6638</td>\n",
              "      <td>0.17300</td>\n",
              "      <td>NaN</td>\n",
              "    </tr>\n",
              "    <tr>\n",
              "      <th>4</th>\n",
              "      <td>84358402</td>\n",
              "      <td>M</td>\n",
              "      <td>20.29</td>\n",
              "      <td>14.34</td>\n",
              "      <td>135.10</td>\n",
              "      <td>1297.0</td>\n",
              "      <td>0.10030</td>\n",
              "      <td>0.13280</td>\n",
              "      <td>0.1980</td>\n",
              "      <td>0.10430</td>\n",
              "      <td>0.1809</td>\n",
              "      <td>0.05883</td>\n",
              "      <td>0.7572</td>\n",
              "      <td>0.7813</td>\n",
              "      <td>5.438</td>\n",
              "      <td>94.44</td>\n",
              "      <td>0.011490</td>\n",
              "      <td>0.02461</td>\n",
              "      <td>0.05688</td>\n",
              "      <td>0.01885</td>\n",
              "      <td>0.01756</td>\n",
              "      <td>0.005115</td>\n",
              "      <td>22.54</td>\n",
              "      <td>16.67</td>\n",
              "      <td>152.20</td>\n",
              "      <td>1575.0</td>\n",
              "      <td>0.1374</td>\n",
              "      <td>0.2050</td>\n",
              "      <td>0.4000</td>\n",
              "      <td>0.1625</td>\n",
              "      <td>0.2364</td>\n",
              "      <td>0.07678</td>\n",
              "      <td>NaN</td>\n",
              "    </tr>\n",
              "  </tbody>\n",
              "</table>\n",
              "</div>"
            ],
            "text/plain": [
              "         id diagnosis  ...  fractal_dimension_worst  Unnamed: 32\n",
              "0    842302         M  ...                  0.11890          NaN\n",
              "1    842517         M  ...                  0.08902          NaN\n",
              "2  84300903         M  ...                  0.08758          NaN\n",
              "3  84348301         M  ...                  0.17300          NaN\n",
              "4  84358402         M  ...                  0.07678          NaN\n",
              "\n",
              "[5 rows x 33 columns]"
            ]
          },
          "metadata": {
            "tags": []
          },
          "execution_count": 3
        }
      ]
    },
    {
      "cell_type": "code",
      "metadata": {
        "id": "DhEbWCND9fMQ",
        "colab_type": "code",
        "colab": {
          "base_uri": "https://localhost:8080/",
          "height": 170
        },
        "outputId": "18234d5a-b99f-4b3d-a206-9c4f07911306"
      },
      "source": [
        "# Modelagem \n",
        "data.drop('id', axis=1, inplace=True)\n",
        "data.drop('Unnamed: 32', axis=1, inplace=True)\n",
        "\n",
        "X = data.drop('diagnosis', axis=1)\n",
        "y = data['diagnosis']\n",
        "\n",
        "\n",
        "\n",
        "X_train, X_test, y_train, y_test = train_test_split(X,y, test_size=0.30, random_state=42)\n",
        "\n",
        "\n",
        "# encoding \n",
        "label = LabelEncoder()\n",
        "y_train = label.fit_transform(y_train)\n",
        "y_test = label.transform(y_test)\n",
        "\n",
        "\n",
        "# Standard \n",
        "scaler = StandardScaler()\n",
        "X_train = scaler.fit_transform(X_train)\n",
        "X_test = scaler.transform(X_test)\n",
        "\n",
        "\n",
        "\n",
        "mdl = RandomForestClassifier(n_estimators=100, random_state=42)\n",
        "mdl.fit(X_train, y_train)\n",
        "y_pred = mdl.predict(X_test)\n",
        "\n",
        "print(classification_report(y_test, y_pred))"
      ],
      "execution_count": 4,
      "outputs": [
        {
          "output_type": "stream",
          "text": [
            "              precision    recall  f1-score   support\n",
            "\n",
            "           0       0.96      0.99      0.98       108\n",
            "           1       0.98      0.94      0.96        63\n",
            "\n",
            "    accuracy                           0.97       171\n",
            "   macro avg       0.97      0.96      0.97       171\n",
            "weighted avg       0.97      0.97      0.97       171\n",
            "\n"
          ],
          "name": "stdout"
        }
      ]
    },
    {
      "cell_type": "markdown",
      "metadata": {
        "id": "GHfxpoJv9mQZ",
        "colab_type": "text"
      },
      "source": [
        "<hr>\n",
        "<br>\n",
        "\n",
        "### Random Search \n",
        "\n",
        "Pesquisa aleatória por amostragem uniforme dentro dos limites especificados.\n",
        "\n",
        "<br>"
      ]
    },
    {
      "cell_type": "code",
      "metadata": {
        "id": "D-6rQ4mQ9q2k",
        "colab_type": "code",
        "colab": {}
      },
      "source": [
        "# Random Search \n",
        "from skopt import dummy_minimize"
      ],
      "execution_count": 5,
      "outputs": []
    },
    {
      "cell_type": "code",
      "metadata": {
        "id": "mRh03ykd94J7",
        "colab_type": "code",
        "colab": {
          "base_uri": "https://localhost:8080/",
          "height": 1000
        },
        "outputId": "27e0f658-88fb-4353-b7eb-ce1b75f430ae"
      },
      "source": [
        "def treinar_modelo(params):\n",
        "\n",
        "    # hiperparâmetros \n",
        "    n_estimators = params[0]\n",
        "    criterion = params[1]\n",
        "    max_depth = params[2]\n",
        "    min_samples_split = params[3]\n",
        "    min_samples_leaf = params[4]\n",
        "    max_features = params[5]\n",
        "    class_weight = params[6]\n",
        "    random_state = params[7]\n",
        "    \n",
        "\n",
        "    print(params)\n",
        "    print('\\n')\n",
        "\n",
        "    # modelo\n",
        "    mdl = RandomForestClassifier(n_estimators=n_estimators, criterion=criterion, max_depth=max_depth,\n",
        "                      min_samples_split=min_samples_split, min_samples_leaf=min_samples_leaf,\n",
        "                      max_features=max_features,\n",
        "                      class_weight=class_weight,\n",
        "                      random_state=random_state)\n",
        "    mdl.fit(X_train, y_train)\n",
        "    y_pred = mdl.predict(X_test)\n",
        "\n",
        "    # minimizar a função (inversa da métrica)\n",
        "    return -accuracy_score(y_test, y_pred)\n",
        "\n",
        "\n",
        "\n",
        "# spaces\n",
        "spaces = [(100, 2000, 'log-uniform'),\n",
        "          (['gini', 'entropy']),\n",
        "          (1, 30),\n",
        "          (0.1, 0.8),\n",
        "          (1, 20),\n",
        "          (0, 1.0),\n",
        "          (['balanced_subsample', 'balanced']),\n",
        "          ([42])]\n",
        "\n",
        "\n",
        "# Random Search resultados \n",
        "resultados_random = dummy_minimize(treinar_modelo, spaces, n_calls=30, verbose=1, random_state=42)"
      ],
      "execution_count": 6,
      "outputs": [
        {
          "output_type": "stream",
          "text": [
            "Iteration No: 1 started. Evaluating function at random point.\n",
            "[1087, 'gini', 8, 0.5190609389379257, 7, 0.44583275285359125, 'balanced_subsample', 42]\n",
            "\n",
            "\n",
            "Iteration No: 1 ended. Evaluation done at random point.\n",
            "Time taken: 2.4727\n",
            "Function value obtained: -0.9298\n",
            "Current minimum: -0.9298\n",
            "Iteration No: 2 started. Evaluating function at random point.\n",
            "[272, 'gini', 3, 0.11440914600706173, 2, 0.7219987722668249, 'balanced', 42]\n",
            "\n",
            "\n",
            "Iteration No: 2 ended. Evaluation done at random point.\n",
            "Time taken: 0.7604\n",
            "Function value obtained: -0.9532\n",
            "Current minimum: -0.9532\n",
            "Iteration No: 3 started. Evaluating function at random point.\n",
            "[1954, 'entropy', 26, 0.46732950214256663, 12, 0.02306242504141576, 'balanced', 42]\n",
            "\n",
            "\n",
            "Iteration No: 3 ended. Evaluation done at random point.\n",
            "Time taken: 3.0789\n",
            "Function value obtained: -0.9649\n",
            "Current minimum: -0.9649\n",
            "Iteration No: 4 started. Evaluating function at random point.\n",
            "[115, 'entropy', 15, 0.4192489889519252, 15, 0.6183860093330874, 'balanced_subsample', 42]\n",
            "\n",
            "\n",
            "Iteration No: 4 ended. Evaluation done at random point.\n",
            "Time taken: 0.3367\n",
            "Function value obtained: -0.9298\n",
            "Current minimum: -0.9649\n",
            "Iteration No: 5 started. Evaluating function at random point.\n",
            "[405, 'entropy', 7, 0.2193668865811041, 7, 0.013264961159866532, 'balanced', 42]\n",
            "\n",
            "\n",
            "Iteration No: 5 ended. Evaluation done at random point.\n",
            "Time taken: 0.6786\n",
            "Function value obtained: -0.9649\n",
            "Current minimum: -0.9649\n",
            "Iteration No: 6 started. Evaluating function at random point.\n",
            "[317, 'gini', 2, 0.5789631185585099, 15, 0.6832635188254583, 'balanced', 42]\n",
            "\n",
            "\n",
            "Iteration No: 6 ended. Evaluation done at random point.\n",
            "Time taken: 0.6201\n",
            "Function value obtained: -0.9181\n",
            "Current minimum: -0.9649\n",
            "Iteration No: 7 started. Evaluating function at random point.\n",
            "[168, 'gini', 18, 0.5637655990477876, 2, 0.4251558744912448, 'balanced_subsample', 42]\n",
            "\n",
            "\n",
            "Iteration No: 7 ended. Evaluation done at random point.\n",
            "Time taken: 0.3786\n",
            "Function value obtained: -0.9298\n",
            "Current minimum: -0.9649\n",
            "Iteration No: 8 started. Evaluating function at random point.\n",
            "[110, 'entropy', 12, 0.7576492590949325, 4, 0.5978999788110853, 'balanced', 42]\n",
            "\n",
            "\n",
            "Iteration No: 8 ended. Evaluation done at random point.\n",
            "Time taken: 0.1694\n",
            "Function value obtained: -0.6316\n",
            "Current minimum: -0.9649\n",
            "Iteration No: 9 started. Evaluating function at random point.\n",
            "[180, 'gini', 8, 0.6911736940747061, 13, 0.27134903177389597, 'balanced', 42]\n",
            "\n",
            "\n",
            "Iteration No: 9 ended. Evaluation done at random point.\n",
            "Time taken: 0.2918\n",
            "Function value obtained: -0.6316\n",
            "Current minimum: -0.9649\n",
            "Iteration No: 10 started. Evaluating function at random point.\n",
            "[232, 'entropy', 9, 0.3073914539928577, 13, 0.07455064367977084, 'balanced', 42]\n",
            "\n",
            "\n",
            "Iteration No: 10 ended. Evaluation done at random point.\n",
            "Time taken: 0.4163\n",
            "Function value obtained: -0.9591\n",
            "Current minimum: -0.9649\n",
            "Iteration No: 11 started. Evaluating function at random point.\n",
            "[181, 'gini', 11, 0.23918968286216366, 8, 0.7290071680409874, 'balanced', 42]\n",
            "\n",
            "\n",
            "Iteration No: 11 ended. Evaluation done at random point.\n",
            "Time taken: 0.5116\n",
            "Function value obtained: -0.9532\n",
            "Current minimum: -0.9649\n",
            "Iteration No: 12 started. Evaluating function at random point.\n",
            "[293, 'gini', 7, 0.6950270044528596, 12, 0.33089802485264924, 'balanced_subsample', 42]\n",
            "\n",
            "\n",
            "Iteration No: 12 ended. Evaluation done at random point.\n",
            "Time taken: 0.5743\n",
            "Function value obtained: -0.6316\n",
            "Current minimum: -0.9649\n",
            "Iteration No: 13 started. Evaluating function at random point.\n",
            "[265, 'entropy', 8, 0.29230525509304495, 3, 0.4722149251619494, 'balanced_subsample', 42]\n",
            "\n",
            "\n",
            "Iteration No: 13 ended. Evaluation done at random point.\n",
            "Time taken: 0.9472\n",
            "Function value obtained: -0.9415\n",
            "Current minimum: -0.9649\n",
            "Iteration No: 14 started. Evaluating function at random point.\n",
            "[977, 'entropy', 14, 0.44565691745507363, 9, 0.7106628896857875, 'balanced_subsample', 42]\n",
            "\n",
            "\n",
            "Iteration No: 14 ended. Evaluation done at random point.\n",
            "Time taken: 2.8794\n",
            "Function value obtained: -0.9298\n",
            "Current minimum: -0.9649\n",
            "Iteration No: 15 started. Evaluating function at random point.\n",
            "[183, 'entropy', 17, 0.32004918675342875, 4, 0.9075664739260932, 'balanced_subsample', 42]\n",
            "\n",
            "\n",
            "Iteration No: 15 ended. Evaluation done at random point.\n",
            "Time taken: 0.8941\n",
            "Function value obtained: -0.9357\n",
            "Current minimum: -0.9649\n",
            "Iteration No: 16 started. Evaluating function at random point.\n",
            "[962, 'gini', 7, 0.3028260170396377, 2, 0.6243540481337934, 'balanced_subsample', 42]\n",
            "\n",
            "\n",
            "Iteration No: 16 ended. Evaluation done at random point.\n",
            "Time taken: 2.9013\n",
            "Function value obtained: -0.9357\n",
            "Current minimum: -0.9649\n",
            "Iteration No: 17 started. Evaluating function at random point.\n",
            "[393, 'gini', 20, 0.7247912989429846, 11, 0.324345021005274, 'balanced_subsample', 42]\n",
            "\n",
            "\n",
            "Iteration No: 17 ended. Evaluation done at random point.\n",
            "Time taken: 0.7723\n",
            "Function value obtained: -0.6316\n",
            "Current minimum: -0.9649\n",
            "Iteration No: 18 started. Evaluating function at random point.\n",
            "[1513, 'gini', 27, 0.3989754520383795, 20, 0.35256885633416907, 'balanced_subsample', 42]\n",
            "\n",
            "\n",
            "Iteration No: 18 ended. Evaluation done at random point.\n",
            "Time taken: 3.3727\n",
            "Function value obtained: -0.9532\n",
            "Current minimum: -0.9649\n",
            "Iteration No: 19 started. Evaluating function at random point.\n",
            "[495, 'gini', 1, 0.18390575713357799, 12, 0.24412552224777423, 'balanced_subsample', 42]\n",
            "\n",
            "\n",
            "Iteration No: 19 ended. Evaluation done at random point.\n",
            "Time taken: 1.0631\n",
            "Function value obtained: -0.9474\n",
            "Current minimum: -0.9649\n",
            "Iteration No: 20 started. Evaluating function at random point.\n",
            "[532, 'gini', 30, 0.7802474579046726, 20, 0.24687606283860125, 'balanced', 42]\n",
            "\n",
            "\n",
            "Iteration No: 20 ended. Evaluation done at random point.\n",
            "Time taken: 0.8065\n",
            "Function value obtained: -0.6316\n",
            "Current minimum: -0.9649\n",
            "Iteration No: 21 started. Evaluating function at random point.\n",
            "[156, 'entropy', 27, 0.5266950337859279, 2, 0.4110370133182314, 'balanced_subsample', 42]\n",
            "\n",
            "\n",
            "Iteration No: 21 ended. Evaluation done at random point.\n",
            "Time taken: 0.4105\n",
            "Function value obtained: -0.9298\n",
            "Current minimum: -0.9649\n",
            "Iteration No: 22 started. Evaluating function at random point.\n",
            "[669, 'entropy', 21, 0.4426169321942942, 6, 0.24205527151150047, 'balanced', 42]\n",
            "\n",
            "\n",
            "Iteration No: 22 ended. Evaluation done at random point.\n",
            "Time taken: 1.2860\n",
            "Function value obtained: -0.9532\n",
            "Current minimum: -0.9649\n",
            "Iteration No: 23 started. Evaluating function at random point.\n",
            "[204, 'entropy', 24, 0.429210444112227, 2, 0.6335297107608948, 'balanced', 42]\n",
            "\n",
            "\n",
            "Iteration No: 23 ended. Evaluation done at random point.\n",
            "Time taken: 0.5144\n",
            "Function value obtained: -0.9298\n",
            "Current minimum: -0.9649\n",
            "Iteration No: 24 started. Evaluating function at random point.\n",
            "[1221, 'gini', 6, 0.5870689647536175, 3, 0.5908929431882419, 'balanced', 42]\n",
            "\n",
            "\n",
            "Iteration No: 24 ended. Evaluation done at random point.\n",
            "Time taken: 2.3783\n",
            "Function value obtained: -0.9298\n",
            "Current minimum: -0.9649\n",
            "Iteration No: 25 started. Evaluating function at random point.\n",
            "[464, 'gini', 7, 0.22205650030349405, 1, 0.39757202108752243, 'balanced', 42]\n",
            "\n",
            "\n",
            "Iteration No: 25 ended. Evaluation done at random point.\n",
            "Time taken: 1.0852\n",
            "Function value obtained: -0.9532\n",
            "Current minimum: -0.9649\n",
            "Iteration No: 26 started. Evaluating function at random point.\n",
            "[757, 'entropy', 18, 0.7472855327949941, 10, 0.25794162771515566, 'balanced', 42]\n",
            "\n",
            "\n",
            "Iteration No: 26 ended. Evaluation done at random point.\n",
            "Time taken: 1.1380\n",
            "Function value obtained: -0.6316\n",
            "Current minimum: -0.9649\n",
            "Iteration No: 27 started. Evaluating function at random point.\n",
            "[528, 'entropy', 2, 0.7973775898305472, 12, 0.5582934536070977, 'balanced', 42]\n",
            "\n",
            "\n",
            "Iteration No: 27 ended. Evaluation done at random point.\n",
            "Time taken: 0.8174\n",
            "Function value obtained: -0.6316\n",
            "Current minimum: -0.9649\n",
            "Iteration No: 28 started. Evaluating function at random point.\n",
            "[231, 'entropy', 16, 0.727977181966804, 1, 0.6420316461542879, 'balanced_subsample', 42]\n",
            "\n",
            "\n",
            "Iteration No: 28 ended. Evaluation done at random point.\n",
            "Time taken: 0.4428\n",
            "Function value obtained: -0.6316\n",
            "Current minimum: -0.9649\n",
            "Iteration No: 29 started. Evaluating function at random point.\n",
            "[1476, 'entropy', 3, 0.36059793659322026, 3, 0.9736638367553175, 'balanced_subsample', 42]\n",
            "\n",
            "\n",
            "Iteration No: 29 ended. Evaluation done at random point.\n",
            "Time taken: 6.6881\n",
            "Function value obtained: -0.9415\n",
            "Current minimum: -0.9649\n",
            "Iteration No: 30 started. Evaluating function at random point.\n",
            "[428, 'gini', 29, 0.25698851662239186, 1, 0.01807536361552087, 'balanced_subsample', 42]\n",
            "\n",
            "\n",
            "Iteration No: 30 ended. Evaluation done at random point.\n",
            "Time taken: 0.8585\n",
            "Function value obtained: -0.9708\n",
            "Current minimum: -0.9708\n"
          ],
          "name": "stdout"
        }
      ]
    },
    {
      "cell_type": "code",
      "metadata": {
        "id": "ZvNVAYOeBPY8",
        "colab_type": "code",
        "colab": {
          "base_uri": "https://localhost:8080/",
          "height": 34
        },
        "outputId": "b7bc6e68-bff1-43f8-cc70-6b78ac7bc7a6"
      },
      "source": [
        "# melhores parâmetros \n",
        "print(resultados_random.x)"
      ],
      "execution_count": 7,
      "outputs": [
        {
          "output_type": "stream",
          "text": [
            "[428, 'gini', 29, 0.25698851662239186, 1, 0.01807536361552087, 'balanced_subsample', 42]\n"
          ],
          "name": "stdout"
        }
      ]
    },
    {
      "cell_type": "code",
      "metadata": {
        "id": "DY7lof-hL4QZ",
        "colab_type": "code",
        "colab": {
          "base_uri": "https://localhost:8080/",
          "height": 85
        },
        "outputId": "d017dd59-b7c8-4dfd-8f91-a4a5b92ace8f"
      },
      "source": [
        "# Modelo Tunado \n",
        "treinar_modelo([428, 'gini', 29, 0.25698851662239186, 1, 0.01807536361552087, 'balanced_subsample', 42])"
      ],
      "execution_count": 8,
      "outputs": [
        {
          "output_type": "stream",
          "text": [
            "[428, 'gini', 29, 0.25698851662239186, 1, 0.01807536361552087, 'balanced_subsample', 42]\n",
            "\n",
            "\n"
          ],
          "name": "stdout"
        },
        {
          "output_type": "execute_result",
          "data": {
            "text/plain": [
              "-0.9707602339181286"
            ]
          },
          "metadata": {
            "tags": []
          },
          "execution_count": 8
        }
      ]
    },
    {
      "cell_type": "markdown",
      "metadata": {
        "id": "j0NKbqxoNJM4",
        "colab_type": "text"
      },
      "source": [
        "<br>\n",
        "<hr>\n",
        "<br>\n",
        "\n",
        "\n",
        "### Bayesian Optimization \n",
        "\n",
        "\n",
        "\n",
        "Otimização bayesiana usando processos gaussianos.\n",
        "\n",
        "Se toda avaliação de função é cara, por exemplo, quando os parâmetros são os hiperparâmetros de uma rede neural e a avaliação da função é a pontuação média de validação cruzada em dez dobras, a otimização dos hiperparâmetros pelas rotinas de otimização padrão levaria para sempre!\n",
        "\n",
        "A idéia é aproximar a função usando um processo gaussiano. Em outras palavras, supõe-se que os valores das funções sigam um gaussiano multivariado. A covariância dos valores das funções é dada por um kernel GP entre os parâmetros. Em seguida, uma escolha inteligente para escolher o próximo parâmetro a ser avaliado pode ser feita pela função de aquisição sobre o prior gaussiano, que é muito mais rápida de avaliar.\n",
        "\n",
        "\n",
        "<br>\n"
      ]
    },
    {
      "cell_type": "code",
      "metadata": {
        "id": "ta6xWXQ0NObe",
        "colab_type": "code",
        "colab": {}
      },
      "source": [
        "from skopt import gp_minimize"
      ],
      "execution_count": 9,
      "outputs": []
    },
    {
      "cell_type": "code",
      "metadata": {
        "id": "-eebQMBYNSv3",
        "colab_type": "code",
        "colab": {
          "base_uri": "https://localhost:8080/",
          "height": 1000
        },
        "outputId": "c80e8a8b-de4b-44ce-a5d9-f18eaa61419f"
      },
      "source": [
        "# Bayesian Optimization \n",
        "\n",
        "def treinar_modelo(params):\n",
        "\n",
        "    # hiperparâmetros \n",
        "    n_estimators = params[0]\n",
        "    criterion = params[1]\n",
        "    max_depth = params[2]\n",
        "    min_samples_split = params[3]\n",
        "    min_samples_leaf = params[4]\n",
        "    class_weight = params[5]\n",
        "    random_state = params[6]\n",
        "    \n",
        "\n",
        "    print(params)\n",
        "    print('\\n')\n",
        "\n",
        "    # modelo\n",
        "    mdl = RandomForestClassifier(n_estimators=n_estimators, criterion=criterion, max_depth=max_depth,\n",
        "                      min_samples_split=min_samples_split, min_samples_leaf=min_samples_leaf,\n",
        "                      class_weight=class_weight,\n",
        "                      random_state=random_state)\n",
        "    mdl.fit(X_train, y_train)\n",
        "    y_pred = mdl.predict(X_test)\n",
        "\n",
        "    # minimizar a função (inversa da métrica)\n",
        "    return -accuracy_score(y_test, y_pred)\n",
        "\n",
        "\n",
        "\n",
        "\n",
        "# dimensões de hiperparâmetros \n",
        "spaces = [(100, 2000, 'log-uniform'),\n",
        "          (['gini', 'entropy']),\n",
        "          (1, 30),\n",
        "          (0.1, 0.8),\n",
        "          (1, 20),\n",
        "          (['balanced_subsample', 'balanced']),\n",
        "          ([42])]\n",
        "\n",
        "\n",
        "\n",
        "resultados_bayesian = gp_minimize(treinar_modelo, spaces, verbose=1, n_calls=30, random_state=42)"
      ],
      "execution_count": 10,
      "outputs": [
        {
          "output_type": "stream",
          "text": [
            "Iteration No: 1 started. Evaluating function at random point.\n",
            "[1613, 'gini', 24, 0.517795110562541, 9, 'balanced_subsample', 42]\n",
            "\n",
            "\n",
            "Iteration No: 1 ended. Evaluation done at random point.\n",
            "Time taken: 3.3133\n",
            "Function value obtained: -0.9591\n",
            "Current minimum: -0.9591\n",
            "Iteration No: 2 started. Evaluating function at random point.\n",
            "[734, 'gini', 20, 0.1394881053189702, 15, 'balanced', 42]\n",
            "\n",
            "\n",
            "Iteration No: 2 ended. Evaluation done at random point.\n",
            "Time taken: 1.3416\n",
            "Function value obtained: -0.9591\n",
            "Current minimum: -0.9591\n",
            "Iteration No: 3 started. Evaluating function at random point.\n",
            "[1985, 'entropy', 19, 0.1049464136538022, 1, 'balanced', 42]\n",
            "\n",
            "\n",
            "Iteration No: 3 ended. Evaluation done at random point.\n",
            "Time taken: 4.6821\n",
            "Function value obtained: -0.9591\n",
            "Current minimum: -0.9591\n",
            "Iteration No: 4 started. Evaluating function at random point.\n",
            "[189, 'entropy', 8, 0.16342450417297458, 13, 'balanced_subsample', 42]\n",
            "\n",
            "\n",
            "Iteration No: 4 ended. Evaluation done at random point.\n",
            "Time taken: 0.5001\n",
            "Function value obtained: -0.9591\n",
            "Current minimum: -0.9591\n",
            "Iteration No: 5 started. Evaluating function at random point.\n",
            "[987, 'entropy', 21, 0.41534947637868025, 1, 'balanced', 42]\n",
            "\n",
            "\n",
            "Iteration No: 5 ended. Evaluation done at random point.\n",
            "Time taken: 1.8405\n",
            "Function value obtained: -0.9532\n",
            "Current minimum: -0.9591\n",
            "Iteration No: 6 started. Evaluating function at random point.\n",
            "[832, 'gini', 8, 0.2687178262182083, 14, 'balanced', 42]\n",
            "\n",
            "\n",
            "Iteration No: 6 ended. Evaluation done at random point.\n",
            "Time taken: 1.5365\n",
            "Function value obtained: -0.9591\n",
            "Current minimum: -0.9591\n",
            "Iteration No: 7 started. Evaluating function at random point.\n",
            "[429, 'gini', 6, 0.628752987222357, 9, 'balanced_subsample', 42]\n",
            "\n",
            "\n",
            "Iteration No: 7 ended. Evaluation done at random point.\n",
            "Time taken: 0.8573\n",
            "Function value obtained: -0.9532\n",
            "Current minimum: -0.9591\n",
            "Iteration No: 8 started. Evaluating function at random point.\n",
            "[159, 'entropy', 14, 0.3766051652012702, 19, 'balanced', 42]\n",
            "\n",
            "\n",
            "Iteration No: 8 ended. Evaluation done at random point.\n",
            "Time taken: 0.3124\n",
            "Function value obtained: -0.9591\n",
            "Current minimum: -0.9591\n",
            "Iteration No: 9 started. Evaluating function at random point.\n",
            "[1184, 'entropy', 29, 0.6911736940747062, 15, 'balanced', 42]\n",
            "\n",
            "\n",
            "Iteration No: 9 ended. Evaluation done at random point.\n",
            "Time taken: 1.8075\n",
            "Function value obtained: -0.3684\n",
            "Current minimum: -0.9591\n",
            "Iteration No: 10 started. Evaluating function at random point.\n",
            "[1934, 'entropy', 9, 0.3073914539928577, 4, 'balanced_subsample', 42]\n",
            "\n",
            "\n",
            "Iteration No: 10 ended. Evaluation done at random point.\n",
            "Time taken: 5.5031\n",
            "Function value obtained: -0.9474\n",
            "Current minimum: -0.9591\n",
            "Iteration No: 11 started. Searching for the next optimal point.\n",
            "[100, 'entropy', 1, 0.1, 20, 'balanced', 42]\n",
            "\n",
            "\n",
            "Iteration No: 11 ended. Search finished for the next optimal point.\n",
            "Time taken: 0.8454\n",
            "Function value obtained: -0.9532\n",
            "Current minimum: -0.9591\n",
            "Iteration No: 12 started. Searching for the next optimal point.\n",
            "[2000, 'gini', 30, 0.1, 1, 'balanced_subsample', 42]\n",
            "\n",
            "\n",
            "Iteration No: 12 ended. Search finished for the next optimal point.\n",
            "Time taken: 5.3428\n",
            "Function value obtained: -0.9591\n",
            "Current minimum: -0.9591\n",
            "Iteration No: 13 started. Searching for the next optimal point.\n",
            "[2000, 'gini', 1, 0.5062388907799982, 1, 'balanced', 42]\n",
            "\n",
            "\n",
            "Iteration No: 13 ended. Search finished for the next optimal point.\n",
            "Time taken: 3.7736\n",
            "Function value obtained: -0.9591\n",
            "Current minimum: -0.9591\n",
            "Iteration No: 14 started. Searching for the next optimal point.\n",
            "[579, 'entropy', 24, 0.43438188552614676, 3, 'balanced', 42]\n",
            "\n",
            "\n",
            "Iteration No: 14 ended. Search finished for the next optimal point.\n",
            "Time taken: 1.8142\n",
            "Function value obtained: -0.9532\n",
            "Current minimum: -0.9591\n",
            "Iteration No: 15 started. Searching for the next optimal point.\n",
            "[2000, 'entropy', 1, 0.5852863024960391, 1, 'balanced', 42]\n",
            "\n",
            "\n",
            "Iteration No: 15 ended. Search finished for the next optimal point.\n",
            "Time taken: 4.1924\n",
            "Function value obtained: -0.9532\n",
            "Current minimum: -0.9591\n",
            "Iteration No: 16 started. Searching for the next optimal point.\n",
            "[2000, 'gini', 30, 0.1, 5, 'balanced_subsample', 42]\n",
            "\n",
            "\n",
            "Iteration No: 16 ended. Search finished for the next optimal point.\n",
            "Time taken: 5.3237\n",
            "Function value obtained: -0.9591\n",
            "Current minimum: -0.9591\n",
            "Iteration No: 17 started. Searching for the next optimal point.\n",
            "[749, 'gini', 20, 0.49564526224096905, 17, 'balanced_subsample', 42]\n",
            "\n",
            "\n",
            "Iteration No: 17 ended. Search finished for the next optimal point.\n",
            "Time taken: 2.1771\n",
            "Function value obtained: -0.9591\n",
            "Current minimum: -0.9591\n",
            "Iteration No: 18 started. Searching for the next optimal point.\n",
            "[2000, 'gini', 30, 0.2188250635045308, 1, 'balanced_subsample', 42]\n",
            "\n",
            "\n",
            "Iteration No: 18 ended. Search finished for the next optimal point.\n",
            "Time taken: 5.3431\n",
            "Function value obtained: -0.9649\n",
            "Current minimum: -0.9649\n",
            "Iteration No: 19 started. Searching for the next optimal point.\n",
            "[770, 'gini', 1, 0.6019602487140104, 4, 'balanced_subsample', 42]\n",
            "\n",
            "\n",
            "Iteration No: 19 ended. Search finished for the next optimal point.\n",
            "Time taken: 2.3164\n",
            "Function value obtained: -0.9591\n",
            "Current minimum: -0.9649\n",
            "Iteration No: 20 started. Searching for the next optimal point.\n",
            "[100, 'gini', 30, 0.30353618507167207, 20, 'balanced', 42]\n",
            "\n",
            "\n",
            "Iteration No: 20 ended. Search finished for the next optimal point.\n",
            "Time taken: 0.8805\n",
            "Function value obtained: -0.9474\n",
            "Current minimum: -0.9649\n",
            "Iteration No: 21 started. Searching for the next optimal point.\n",
            "[100, 'gini', 1, 0.22349951783468608, 20, 'balanced', 42]\n",
            "\n",
            "\n",
            "Iteration No: 21 ended. Search finished for the next optimal point.\n",
            "Time taken: 0.9117\n",
            "Function value obtained: -0.9532\n",
            "Current minimum: -0.9649\n",
            "Iteration No: 22 started. Searching for the next optimal point.\n",
            "[2000, 'gini', 1, 0.8, 1, 'balanced_subsample', 42]\n",
            "\n",
            "\n",
            "Iteration No: 22 ended. Search finished for the next optimal point.\n",
            "Time taken: 4.5170\n",
            "Function value obtained: -0.6316\n",
            "Current minimum: -0.9649\n",
            "Iteration No: 23 started. Searching for the next optimal point.\n",
            "[2000, 'gini', 30, 0.19776871266242158, 1, 'balanced_subsample', 42]\n",
            "\n",
            "\n",
            "Iteration No: 23 ended. Search finished for the next optimal point.\n",
            "Time taken: 5.4224\n",
            "Function value obtained: -0.9649\n",
            "Current minimum: -0.9649\n",
            "Iteration No: 24 started. Searching for the next optimal point.\n",
            "[2000, 'entropy', 30, 0.6163280019657594, 3, 'balanced', 42]\n",
            "\n",
            "\n",
            "Iteration No: 24 ended. Search finished for the next optimal point.\n",
            "Time taken: 4.1406\n",
            "Function value obtained: -0.9532\n",
            "Current minimum: -0.9649\n",
            "Iteration No: 25 started. Searching for the next optimal point.\n",
            "[1389, 'entropy', 20, 0.1, 15, 'balanced_subsample', 42]\n",
            "\n",
            "\n",
            "Iteration No: 25 ended. Search finished for the next optimal point.\n",
            "Time taken: 4.2330\n",
            "Function value obtained: -0.9708\n",
            "Current minimum: -0.9708\n",
            "Iteration No: 26 started. Searching for the next optimal point.\n",
            "[939, 'entropy', 19, 0.34737623887196256, 1, 'balanced', 42]\n",
            "\n",
            "\n",
            "Iteration No: 26 ended. Search finished for the next optimal point.\n",
            "Time taken: 2.4477\n",
            "Function value obtained: -0.9474\n",
            "Current minimum: -0.9708\n",
            "Iteration No: 27 started. Searching for the next optimal point.\n",
            "[1086, 'gini', 7, 0.1, 20, 'balanced_subsample', 42]\n",
            "\n",
            "\n",
            "Iteration No: 27 ended. Search finished for the next optimal point.\n",
            "Time taken: 3.2421\n",
            "Function value obtained: -0.9649\n",
            "Current minimum: -0.9708\n",
            "Iteration No: 28 started. Searching for the next optimal point.\n",
            "[100, 'gini', 1, 0.5521488366130044, 20, 'balanced_subsample', 42]\n",
            "\n",
            "\n",
            "Iteration No: 28 ended. Search finished for the next optimal point.\n",
            "Time taken: 1.0792\n",
            "Function value obtained: -0.9474\n",
            "Current minimum: -0.9708\n",
            "Iteration No: 29 started. Searching for the next optimal point.\n",
            "[2000, 'gini', 1, 0.4663553422537332, 1, 'balanced', 42]\n",
            "\n",
            "\n",
            "Iteration No: 29 ended. Search finished for the next optimal point.\n",
            "Time taken: 3.9362\n",
            "Function value obtained: -0.9591\n",
            "Current minimum: -0.9708\n",
            "Iteration No: 30 started. Searching for the next optimal point.\n",
            "[1477, 'entropy', 22, 0.2601408832514819, 10, 'balanced_subsample', 42]\n",
            "\n",
            "\n",
            "Iteration No: 30 ended. Search finished for the next optimal point.\n",
            "Time taken: 4.4704\n",
            "Function value obtained: -0.9532\n",
            "Current minimum: -0.9708\n"
          ],
          "name": "stdout"
        }
      ]
    },
    {
      "cell_type": "code",
      "metadata": {
        "id": "O4IGgJtDVe7D",
        "colab_type": "code",
        "colab": {
          "base_uri": "https://localhost:8080/",
          "height": 34
        },
        "outputId": "2054ca5c-c918-45ae-ae57-6de1a4590c7b"
      },
      "source": [
        "# melhores parâmetros\n",
        "resultados_bayesian.x"
      ],
      "execution_count": 11,
      "outputs": [
        {
          "output_type": "execute_result",
          "data": {
            "text/plain": [
              "[1389, 'entropy', 20, 0.1, 15, 'balanced_subsample', 42]"
            ]
          },
          "metadata": {
            "tags": []
          },
          "execution_count": 11
        }
      ]
    },
    {
      "cell_type": "code",
      "metadata": {
        "id": "4wyAt33bVkbz",
        "colab_type": "code",
        "colab": {
          "base_uri": "https://localhost:8080/",
          "height": 85
        },
        "outputId": "08c93f3f-8e84-4865-e120-518b3a19c9c6"
      },
      "source": [
        "# Hiperparâmetros tunados \n",
        "tuning = resultados_bayesian.x\n",
        "treinar_modelo(tuning)"
      ],
      "execution_count": 12,
      "outputs": [
        {
          "output_type": "stream",
          "text": [
            "[1389, 'entropy', 20, 0.1, 15, 'balanced_subsample', 42]\n",
            "\n",
            "\n"
          ],
          "name": "stdout"
        },
        {
          "output_type": "execute_result",
          "data": {
            "text/plain": [
              "-0.9707602339181286"
            ]
          },
          "metadata": {
            "tags": []
          },
          "execution_count": 12
        }
      ]
    },
    {
      "cell_type": "code",
      "metadata": {
        "id": "hCbhE5k8aqPm",
        "colab_type": "code",
        "colab": {
          "base_uri": "https://localhost:8080/",
          "height": 34
        },
        "outputId": "a50dc14a-22d3-4af4-a390-a1276f30a7ba"
      },
      "source": [
        "# mínimo da métrica objetivo \n",
        "resultados_bayesian.fun"
      ],
      "execution_count": 13,
      "outputs": [
        {
          "output_type": "execute_result",
          "data": {
            "text/plain": [
              "-0.9707602339181286"
            ]
          },
          "metadata": {
            "tags": []
          },
          "execution_count": 13
        }
      ]
    },
    {
      "cell_type": "code",
      "metadata": {
        "id": "NWSl0h69c7g9",
        "colab_type": "code",
        "colab": {
          "base_uri": "https://localhost:8080/",
          "height": 119
        },
        "outputId": "ce218511-f221-4cda-afe9-7ff47e2f1a2c"
      },
      "source": [
        "# melhores parâmetros \n",
        "\n",
        "print('Melhores Parâmetros')\n",
        "print('\\n')\n",
        "\n",
        "print('n_estimators= {}'.format(resultados_bayesian.x[0]))\n",
        "print('criterion= {}'.format(resultados_bayesian.x[1]))\n",
        "print('max_depth= {}'.format(resultados_bayesian.x[2]))"
      ],
      "execution_count": 14,
      "outputs": [
        {
          "output_type": "stream",
          "text": [
            "Melhores Parâmetros\n",
            "\n",
            "\n",
            "n_estimators= 1389\n",
            "criterion= entropy\n",
            "max_depth= 20\n"
          ],
          "name": "stdout"
        }
      ]
    },
    {
      "cell_type": "code",
      "metadata": {
        "id": "0IxSpeHoXECJ",
        "colab_type": "code",
        "colab": {}
      },
      "source": [
        "# Random Serarch x Bayesian Optimization \n",
        "from skopt.plots import plot_convergence "
      ],
      "execution_count": 15,
      "outputs": []
    },
    {
      "cell_type": "code",
      "metadata": {
        "id": "wzicOMsdY8Tb",
        "colab_type": "code",
        "colab": {
          "base_uri": "https://localhost:8080/",
          "height": 136
        },
        "outputId": "07625d89-c4a6-4b55-d8e7-c8c3d9ff8d4e"
      },
      "source": [
        "# Espaço de buscas \n",
        "resultados_bayesian.space"
      ],
      "execution_count": 16,
      "outputs": [
        {
          "output_type": "execute_result",
          "data": {
            "text/plain": [
              "Space([Integer(low=100, high=2000, prior='uniform', transform='normalize'),\n",
              "       Categorical(categories=('gini', 'entropy'), prior=None),\n",
              "       Integer(low=1, high=30, prior='uniform', transform='normalize'),\n",
              "       Real(low=0.1, high=0.8, prior='uniform', transform='normalize'),\n",
              "       Integer(low=1, high=20, prior='uniform', transform='normalize'),\n",
              "       Categorical(categories=('balanced_subsample', 'balanced'), prior=None),\n",
              "       Categorical(categories=(42,), prior=None)])"
            ]
          },
          "metadata": {
            "tags": []
          },
          "execution_count": 16
        }
      ]
    },
    {
      "cell_type": "code",
      "metadata": {
        "id": "qJ2eahnGXKHr",
        "colab_type": "code",
        "colab": {
          "base_uri": "https://localhost:8080/",
          "height": 314
        },
        "outputId": "e88c639a-05a5-46e4-d6f8-0a2d6b63d132"
      },
      "source": [
        "plot_convergence(resultados_random, resultados_bayesian)"
      ],
      "execution_count": 17,
      "outputs": [
        {
          "output_type": "execute_result",
          "data": {
            "text/plain": [
              "<matplotlib.axes._subplots.AxesSubplot at 0x7feb86703cc0>"
            ]
          },
          "metadata": {
            "tags": []
          },
          "execution_count": 17
        },
        {
          "output_type": "display_data",
          "data": {
            "image/png": "[encoded data removed]",
            "text/plain": [
              "<Figure size 432x288 with 1 Axes>"
            ]
          },
          "metadata": {
            "tags": [],
            "needs_background": "light"
          }
        }
      ]
    },
    {
      "cell_type": "markdown",
      "metadata": {
        "id": "rfDgHzyvfqj1",
        "colab_type": "text"
      },
      "source": [
        "### BayesSearchCV \n",
        "\n",
        "Outra alternativa possível de Otimização bayesiana, com Cross validation aplicado. \n",
        "\n",
        "<br>"
      ]
    },
    {
      "cell_type": "code",
      "metadata": {
        "id": "IbFNJYn1fyyw",
        "colab_type": "code",
        "colab": {}
      },
      "source": [
        "from skopt import BayesSearchCV\n",
        "from skopt.space import Real, Categorical, Integer"
      ],
      "execution_count": 18,
      "outputs": []
    },
    {
      "cell_type": "code",
      "metadata": {
        "id": "Bq-3p2HWf4RY",
        "colab_type": "code",
        "colab": {
          "base_uri": "https://localhost:8080/",
          "height": 340
        },
        "outputId": "078ed27e-5473-4cca-88c4-f7741a9bae6e"
      },
      "source": [
        "# espaços de busca \n",
        "spaces_bayesian = {'n_estimators': Integer(100,2000, prior='log-uniform'),\n",
        "                   'max_depth': Real(1,30, prior='uniform'),\n",
        "                   'criterion': Categorical(['gini', 'entropy'])    \n",
        "}\n",
        "\n",
        "\n",
        "bayesian = BayesSearchCV(RandomForestClassifier(), spaces_bayesian, n_iter=30, cv=5, scoring='accuracy', random_state=42)\n",
        "bayesian.fit(X_train, y_train)"
      ],
      "execution_count": 19,
      "outputs": [
        {
          "output_type": "execute_result",
          "data": {
            "text/plain": [
              "BayesSearchCV(cv=5, error_score='raise',\n",
              "              estimator=RandomForestClassifier(bootstrap=True, ccp_alpha=0.0,\n",
              "                                               class_weight=None,\n",
              "                                               criterion='gini', max_depth=None,\n",
              "                                               max_features='auto',\n",
              "                                               max_leaf_nodes=None,\n",
              "                                               max_samples=None,\n",
              "                                               min_impurity_decrease=0.0,\n",
              "                                               min_impurity_split=None,\n",
              "                                               min_samples_leaf=1,\n",
              "                                               min_samples_split=2,\n",
              "                                               min_weight_fraction_leaf=0.0,\n",
              "                                               n_estimators=100, n_jobs=...\n",
              "              optimizer_kwargs=None, pre_dispatch='2*n_jobs', random_state=42,\n",
              "              refit=True, return_train_score=False, scoring='accuracy',\n",
              "              search_spaces={'criterion': Categorical(categories=('gini', 'entropy'), prior=None),\n",
              "                             'max_depth': Real(low=1, high=30, prior='uniform', transform='identity'),\n",
              "                             'n_estimators': Integer(low=100, high=2000, prior='log-uniform', transform='identity')},\n",
              "              verbose=0)"
            ]
          },
          "metadata": {
            "tags": []
          },
          "execution_count": 19
        }
      ]
    },
    {
      "cell_type": "code",
      "metadata": {
        "id": "Ul2LTT0EgEsd",
        "colab_type": "code",
        "colab": {
          "base_uri": "https://localhost:8080/",
          "height": 68
        },
        "outputId": "d14b576f-3a6c-4f99-b036-74bcd72b8a83"
      },
      "source": [
        "# melhores parâmetros \n",
        "bayesian.best_params_"
      ],
      "execution_count": 20,
      "outputs": [
        {
          "output_type": "execute_result",
          "data": {
            "text/plain": [
              "OrderedDict([('criterion', 'entropy'),\n",
              "             ('max_depth', 27.680267566682176),\n",
              "             ('n_estimators', 1043)])"
            ]
          },
          "metadata": {
            "tags": []
          },
          "execution_count": 20
        }
      ]
    },
    {
      "cell_type": "code",
      "metadata": {
        "id": "Bhvn2XqfiAH6",
        "colab_type": "code",
        "colab": {
          "base_uri": "https://localhost:8080/",
          "height": 153
        },
        "outputId": "04497e86-6f32-425c-b47b-5390eadfb837"
      },
      "source": [
        "# melhor modelo\n",
        "bayesian.best_estimator_"
      ],
      "execution_count": 21,
      "outputs": [
        {
          "output_type": "execute_result",
          "data": {
            "text/plain": [
              "RandomForestClassifier(bootstrap=True, ccp_alpha=0.0, class_weight=None,\n",
              "                       criterion='entropy', max_depth=27.680267566682176,\n",
              "                       max_features='auto', max_leaf_nodes=None,\n",
              "                       max_samples=None, min_impurity_decrease=0.0,\n",
              "                       min_impurity_split=None, min_samples_leaf=1,\n",
              "                       min_samples_split=2, min_weight_fraction_leaf=0.0,\n",
              "                       n_estimators=1043, n_jobs=None, oob_score=False,\n",
              "                       random_state=None, verbose=0, warm_start=False)"
            ]
          },
          "metadata": {
            "tags": []
          },
          "execution_count": 21
        }
      ]
    },
    {
      "cell_type": "code",
      "metadata": {
        "id": "Izu87LOfgviE",
        "colab_type": "code",
        "colab": {
          "base_uri": "https://localhost:8080/",
          "height": 34
        },
        "outputId": "c07bec51-ba29-489a-ed40-2f6d37c8c594"
      },
      "source": [
        "# melhor acurácia \n",
        "bayesian.best_score_"
      ],
      "execution_count": 22,
      "outputs": [
        {
          "output_type": "execute_result",
          "data": {
            "text/plain": [
              "0.9623115577889447"
            ]
          },
          "metadata": {
            "tags": []
          },
          "execution_count": 22
        }
      ]
    },
    {
      "cell_type": "code",
      "metadata": {
        "id": "MhfFZrYJiMzr",
        "colab_type": "code",
        "colab": {
          "base_uri": "https://localhost:8080/",
          "height": 34
        },
        "outputId": "9a523362-7261-46e2-ccf6-f133c6752170"
      },
      "source": [
        "# Validação \n",
        "np.mean(bayesian.best_score_)"
      ],
      "execution_count": 23,
      "outputs": [
        {
          "output_type": "execute_result",
          "data": {
            "text/plain": [
              "0.9623115577889447"
            ]
          },
          "metadata": {
            "tags": []
          },
          "execution_count": 23
        }
      ]
    }
  ]
}